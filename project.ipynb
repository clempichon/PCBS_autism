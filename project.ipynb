{
 "cells": [
  {
   "cell_type": "markdown",
   "metadata": {},
   "source": [
    "# Machine learning on autism data\n",
    "\n",
    "Pr Fadi Fayez Thabtah, from the Digital Technology Departement of Manukau Institute of Technology of Auckland has created an app, the Autism Spectrum Disorder Tests App, aiming at understanding the main characteristics of autistic patients in order to better detect ASD. By answering a series of 10 questions, and giving a few information about themselves, users of the app have contributed in creating datasets related to autism. It has been divided in three parts : children (from 4 to 11 years old), adolescents (12 to 18 years old), and adults. \n",
    "\n",
    "These datasets are the starting for this project of machine learning, aiming at creating an algorithm that detect autism from the responses to those 10 questions.\n",
    "\n",
    "<img src=\"photos/asd.png\" alt=\"asd\" width=\"150\"/>\n",
    "\n",
    "\n",
    "\n",
    "\n",
    "## 1. Importing the required modules"
   ]
  },
  {
   "cell_type": "code",
   "execution_count": 63,
   "metadata": {},
   "outputs": [],
   "source": [
    "from scipy.io import arff\n",
    "import pandas as pd \n",
    "import numpy as np\n",
    "import matplotlib.pyplot as plt\n",
    "from sklearn.decomposition import PCA\n",
    "from sklearn.preprocessing import StandardScaler\n",
    "from sklearn.neighbors import KNeighborsClassifier\n",
    "from sklearn.model_selection import train_test_split\n",
    "from sklearn.linear_model import LogisticRegression"
   ]
  },
  {
   "cell_type": "markdown",
   "metadata": {},
   "source": [
    "## 2. Loading the data\n",
    "\n",
    "The data is arff files, which contain two parts : one with metadata, and one with data. The first 10 columns are  responses to 10 different questions about their life habits. The results of the questions is summarized in the result variable, a score relative to the number of yes answers. \n",
    "\n",
    "<img src=\"photos/app.png\" alt=\"app\" width=\"600\"/>\n",
    "\n",
    "We also have data about the person : gender, ethnicity, jundice when he was young, country, age, whether one parent have a ASD-like trouble ('austim')... We also know if the child is autistic or not ('Class/ASD'). We also have a few information about the person responding the questionnaire (its relation to the child, its use of the app before etc.). \n",
    "\n",
    "We have three different data sets (child, adolescent, adult) that I want to merge into a single one in order to have more observations and therefore better predictions. "
   ]
  },
  {
   "cell_type": "code",
   "execution_count": 29,
   "metadata": {},
   "outputs": [],
   "source": [
    "# I load the data from the arff file into two files (data and meta) for each data set \n",
    "data_child, meta_child = arff.loadarff('Autism-Child-Data.arff')\n",
    "data_child = pd.DataFrame(data_child)\n",
    "\n",
    "data_ado, meta_ado = arff.loadarff('Autism-Adolescent-Data.arff')\n",
    "data_ado = pd.DataFrame(data_ado)\n",
    "\n",
    "data_adult, meta_adult = arff.loadarff('Autism-Adult-Data.arff')\n",
    "data_adult = pd.DataFrame(data_adult)\n",
    "data_adult = data_adult.drop(52) # That guy was 383 years old..\n",
    "\n",
    "# I store the names of columns in different lists to check whether we have the same variables\n",
    "names_child = list(data_child.columns.values)\n",
    "names_ado = list(data_ado.columns.values)\n",
    "names_adult = list(data_adult.columns.values)\n",
    "\n",
    "# I assert that the variables are the same\n",
    "assert names_child==names_ado\n",
    "assert names_child==names_adult"
   ]
  },
  {
   "cell_type": "markdown",
   "metadata": {},
   "source": [
    "## 3. Handling missing values\n",
    "\n",
    "I want to handle missing values by replacing it by their mean. I want to to this before merging the different data sets because I hypothesis that some variables are very different from a child to an adult. Therefore, I search for missing values and handle it before merging the datasets. "
   ]
  },
  {
   "cell_type": "code",
   "execution_count": 30,
   "metadata": {},
   "outputs": [
    {
     "name": "stdout",
     "output_type": "stream",
     "text": [
      "There are missing values in the child dataset in the age column\n",
      "There are missing values in the adult dataset in the age column\n"
     ]
    }
   ],
   "source": [
    "# I want to know where my missing values are.\n",
    "for name in names_child:\n",
    "    if data_child[name].isnull().sum()!=0:\n",
    "        print(\"There are missing values in the child dataset in the \" + name + \" column\")\n",
    "    if data_ado[name].isnull().sum()!=0:\n",
    "        print(\"There are missing values in the adolescent dataset in the \" + name + \" column\")\n",
    "    if data_adult[name].isnull().sum()!=0:\n",
    "        print(\"There are missing values in the adult dataset in the \" + name + \" column\")"
   ]
  },
  {
   "cell_type": "markdown",
   "metadata": {},
   "source": [
    "We observe that missing values are only present on age variable in child and adult datasets. I can replace them by the mean of their category (mean age of children, mean age of adults)."
   ]
  },
  {
   "cell_type": "code",
   "execution_count": 31,
   "metadata": {},
   "outputs": [],
   "source": [
    "# Fill nas with the mean of the column\n",
    "age_mean_child = data_child.age.mean()\n",
    "data_child['age'] = data_child['age'].fillna(age_mean_child)\n",
    "\n",
    "age_mean_ado = data_ado.age.mean()\n",
    "data_ado['age'] = data_ado['age'].fillna(age_mean_ado)\n",
    "\n",
    "age_mean_adult = data_adult.age.mean()\n",
    "data_adult['age'] = data_adult['age'].fillna(age_mean_adult)\n",
    "\n",
    "for name in names_child:\n",
    "    assert data_child[name].isnull().sum()==0\n",
    "    assert data_ado[name].isnull().sum()==0\n",
    "    assert data_adult[name].isnull().sum()==0"
   ]
  },
  {
   "cell_type": "markdown",
   "metadata": {},
   "source": [
    "## 4. Merging datasets\n",
    "\n",
    "I merge the three datasets. We should have always the same number of variables (21) and a number of observations which equals the sum of all observations (292+104+704 = 1100)."
   ]
  },
  {
   "cell_type": "code",
   "execution_count": 32,
   "metadata": {},
   "outputs": [
    {
     "name": "stdout",
     "output_type": "stream",
     "text": [
      "(292, 21)\n",
      "(104, 21)\n",
      "(703, 21)\n",
      "(1099, 21)\n"
     ]
    }
   ],
   "source": [
    "data = pd.concat([data_child, data_ado, data_adult])\n",
    "print(data_child.shape)\n",
    "print(data_ado.shape)\n",
    "print(data_adult.shape)\n",
    "print(data.shape)\n",
    "\n",
    "names = list(data.columns.values)"
   ]
  },
  {
   "cell_type": "markdown",
   "metadata": {},
   "source": [
    "## 5. Tidying data\n",
    "\n",
    "We start by turning values into numerical values."
   ]
  },
  {
   "cell_type": "code",
   "execution_count": 33,
   "metadata": {},
   "outputs": [],
   "source": [
    "#Turn the numeric strings in real numerical data\n",
    "numeric = names[0:11]\n",
    "for name in numeric:\n",
    "    data[name] = pd.to_numeric(data[name])\n",
    "\n",
    "data['result'] = pd.to_numeric(data['result'])\n",
    "data['age'] = pd.to_numeric(data['age'])"
   ]
  },
  {
   "cell_type": "markdown",
   "metadata": {},
   "source": [
    "We turn our binary variables into numerical ones. I chose to recode as it follows:\n",
    "- for gender, 0 is man and 1 is woman\n",
    "- for autism, jundice, and used_app_before,  0 is no and 1 is yes"
   ]
  },
  {
   "cell_type": "code",
   "execution_count": 34,
   "metadata": {},
   "outputs": [
    {
     "data": {
      "text/html": [
       "<div>\n",
       "<style scoped>\n",
       "    .dataframe tbody tr th:only-of-type {\n",
       "        vertical-align: middle;\n",
       "    }\n",
       "\n",
       "    .dataframe tbody tr th {\n",
       "        vertical-align: top;\n",
       "    }\n",
       "\n",
       "    .dataframe thead th {\n",
       "        text-align: right;\n",
       "    }\n",
       "</style>\n",
       "<table border=\"1\" class=\"dataframe\">\n",
       "  <thead>\n",
       "    <tr style=\"text-align: right;\">\n",
       "      <th></th>\n",
       "      <th>A1_Score</th>\n",
       "      <th>A2_Score</th>\n",
       "      <th>A3_Score</th>\n",
       "      <th>A4_Score</th>\n",
       "      <th>A5_Score</th>\n",
       "      <th>A6_Score</th>\n",
       "      <th>A7_Score</th>\n",
       "      <th>A8_Score</th>\n",
       "      <th>A9_Score</th>\n",
       "      <th>A10_Score</th>\n",
       "      <th>...</th>\n",
       "      <th>gender</th>\n",
       "      <th>ethnicity</th>\n",
       "      <th>jundice</th>\n",
       "      <th>austim</th>\n",
       "      <th>contry_of_res</th>\n",
       "      <th>used_app_before</th>\n",
       "      <th>result</th>\n",
       "      <th>age_desc</th>\n",
       "      <th>relation</th>\n",
       "      <th>Class/ASD</th>\n",
       "    </tr>\n",
       "  </thead>\n",
       "  <tbody>\n",
       "    <tr>\n",
       "      <td>0</td>\n",
       "      <td>1</td>\n",
       "      <td>1</td>\n",
       "      <td>0</td>\n",
       "      <td>0</td>\n",
       "      <td>1</td>\n",
       "      <td>1</td>\n",
       "      <td>0</td>\n",
       "      <td>1</td>\n",
       "      <td>0</td>\n",
       "      <td>0</td>\n",
       "      <td>...</td>\n",
       "      <td>0</td>\n",
       "      <td>b'Others'</td>\n",
       "      <td>0</td>\n",
       "      <td>0</td>\n",
       "      <td>b'Jordan'</td>\n",
       "      <td>0</td>\n",
       "      <td>5.0</td>\n",
       "      <td>b'4-11 years'</td>\n",
       "      <td>b'Parent'</td>\n",
       "      <td>0</td>\n",
       "    </tr>\n",
       "    <tr>\n",
       "      <td>1</td>\n",
       "      <td>1</td>\n",
       "      <td>1</td>\n",
       "      <td>0</td>\n",
       "      <td>0</td>\n",
       "      <td>1</td>\n",
       "      <td>1</td>\n",
       "      <td>0</td>\n",
       "      <td>1</td>\n",
       "      <td>0</td>\n",
       "      <td>0</td>\n",
       "      <td>...</td>\n",
       "      <td>0</td>\n",
       "      <td>b'Middle Eastern '</td>\n",
       "      <td>0</td>\n",
       "      <td>0</td>\n",
       "      <td>b'Jordan'</td>\n",
       "      <td>0</td>\n",
       "      <td>5.0</td>\n",
       "      <td>b'4-11 years'</td>\n",
       "      <td>b'Parent'</td>\n",
       "      <td>0</td>\n",
       "    </tr>\n",
       "    <tr>\n",
       "      <td>2</td>\n",
       "      <td>1</td>\n",
       "      <td>1</td>\n",
       "      <td>0</td>\n",
       "      <td>0</td>\n",
       "      <td>0</td>\n",
       "      <td>1</td>\n",
       "      <td>1</td>\n",
       "      <td>1</td>\n",
       "      <td>0</td>\n",
       "      <td>0</td>\n",
       "      <td>...</td>\n",
       "      <td>0</td>\n",
       "      <td>b'?'</td>\n",
       "      <td>0</td>\n",
       "      <td>0</td>\n",
       "      <td>b'Jordan'</td>\n",
       "      <td>1</td>\n",
       "      <td>5.0</td>\n",
       "      <td>b'4-11 years'</td>\n",
       "      <td>b'?'</td>\n",
       "      <td>0</td>\n",
       "    </tr>\n",
       "    <tr>\n",
       "      <td>3</td>\n",
       "      <td>0</td>\n",
       "      <td>1</td>\n",
       "      <td>0</td>\n",
       "      <td>0</td>\n",
       "      <td>1</td>\n",
       "      <td>1</td>\n",
       "      <td>0</td>\n",
       "      <td>0</td>\n",
       "      <td>0</td>\n",
       "      <td>1</td>\n",
       "      <td>...</td>\n",
       "      <td>1</td>\n",
       "      <td>b'?'</td>\n",
       "      <td>1</td>\n",
       "      <td>0</td>\n",
       "      <td>b'Jordan'</td>\n",
       "      <td>0</td>\n",
       "      <td>4.0</td>\n",
       "      <td>b'4-11 years'</td>\n",
       "      <td>b'?'</td>\n",
       "      <td>0</td>\n",
       "    </tr>\n",
       "    <tr>\n",
       "      <td>4</td>\n",
       "      <td>1</td>\n",
       "      <td>1</td>\n",
       "      <td>1</td>\n",
       "      <td>1</td>\n",
       "      <td>1</td>\n",
       "      <td>1</td>\n",
       "      <td>1</td>\n",
       "      <td>1</td>\n",
       "      <td>1</td>\n",
       "      <td>1</td>\n",
       "      <td>...</td>\n",
       "      <td>0</td>\n",
       "      <td>b'Others'</td>\n",
       "      <td>1</td>\n",
       "      <td>0</td>\n",
       "      <td>b'United States'</td>\n",
       "      <td>0</td>\n",
       "      <td>10.0</td>\n",
       "      <td>b'4-11 years'</td>\n",
       "      <td>b'Parent'</td>\n",
       "      <td>1</td>\n",
       "    </tr>\n",
       "  </tbody>\n",
       "</table>\n",
       "<p>5 rows × 21 columns</p>\n",
       "</div>"
      ],
      "text/plain": [
       "   A1_Score  A2_Score  A3_Score  A4_Score  A5_Score  A6_Score  A7_Score  \\\n",
       "0         1         1         0         0         1         1         0   \n",
       "1         1         1         0         0         1         1         0   \n",
       "2         1         1         0         0         0         1         1   \n",
       "3         0         1         0         0         1         1         0   \n",
       "4         1         1         1         1         1         1         1   \n",
       "\n",
       "   A8_Score  A9_Score  A10_Score  ...  gender           ethnicity jundice  \\\n",
       "0         1         0          0  ...       0           b'Others'       0   \n",
       "1         1         0          0  ...       0  b'Middle Eastern '       0   \n",
       "2         1         0          0  ...       0                b'?'       0   \n",
       "3         0         0          1  ...       1                b'?'       1   \n",
       "4         1         1          1  ...       0           b'Others'       1   \n",
       "\n",
       "   austim     contry_of_res used_app_before  result       age_desc   relation  \\\n",
       "0       0         b'Jordan'               0     5.0  b'4-11 years'  b'Parent'   \n",
       "1       0         b'Jordan'               0     5.0  b'4-11 years'  b'Parent'   \n",
       "2       0         b'Jordan'               1     5.0  b'4-11 years'       b'?'   \n",
       "3       0         b'Jordan'               0     4.0  b'4-11 years'       b'?'   \n",
       "4       0  b'United States'               0    10.0  b'4-11 years'  b'Parent'   \n",
       "\n",
       "  Class/ASD  \n",
       "0         0  \n",
       "1         0  \n",
       "2         0  \n",
       "3         0  \n",
       "4         1  \n",
       "\n",
       "[5 rows x 21 columns]"
      ]
     },
     "execution_count": 34,
     "metadata": {},
     "output_type": "execute_result"
    }
   ],
   "source": [
    "#We turn our binary variables into numerical ones \n",
    "data.loc[data['gender'] == b'm', 'gender'] = 0\n",
    "data.loc[data['gender'] == b'f', 'gender'] = 1\n",
    "\n",
    "binary=['austim', 'jundice', 'used_app_before']\n",
    "for name in binary:\n",
    "    data.loc[data[name] == b'no', name] = 0\n",
    "    data.loc[data[name] == b'yes', name] = 1\n",
    "\n",
    "data.loc[data['Class/ASD'] == b'NO', 'Class/ASD'] = 0\n",
    "data.loc[data['Class/ASD'] == b'YES', 'Class/ASD'] = 1\n",
    "    \n",
    "data.head()"
   ]
  },
  {
   "cell_type": "markdown",
   "metadata": {},
   "source": [
    "Age_desc is a variable that is useful to define the three types of public (children, adolescent, and adult). But, as I have merged the data set, handled the missing values on the age column and kept the age column, it is not useful anymore. We can drop it."
   ]
  },
  {
   "cell_type": "code",
   "execution_count": 35,
   "metadata": {},
   "outputs": [],
   "source": [
    "data = data.drop('age_desc', axis=1)"
   ]
  },
  {
   "cell_type": "markdown",
   "metadata": {},
   "source": [
    "To simplify the  analysis, I drop the country of residence, the ethnicity and the relation to the person who is answering. I here assume that they have not as much influence than the other data. "
   ]
  },
  {
   "cell_type": "code",
   "execution_count": 36,
   "metadata": {},
   "outputs": [],
   "source": [
    "analyse = data.drop('ethnicity', axis=1)\n",
    "analyse = analyse.drop('contry_of_res', axis=1)\n",
    "analyse = analyse.drop('relation', axis=1)"
   ]
  },
  {
   "cell_type": "markdown",
   "metadata": {},
   "source": [
    "In order for our data set to be ready, I create different arrays: one with target variable (autistic or not, with the variable Class/ASD), and one with all the other variables."
   ]
  },
  {
   "cell_type": "code",
   "execution_count": 51,
   "metadata": {},
   "outputs": [],
   "source": [
    "# Create arrays for the features and the response variable\n",
    "y = analyse['Class/ASD'].values\n",
    "X = analyse.drop('Class/ASD', axis=1).values"
   ]
  },
  {
   "cell_type": "markdown",
   "metadata": {},
   "source": [
    "We therefore have those variables in X:\n",
    "\n",
    "| Variable       | Values          | What it corresponds to  |\n",
    "| :------------- |:-------------:| :-----:|\n",
    "| A1_Score      | 0 or 1 | Response to question 1 |\n",
    "| A2_Score      | 0 or 1 | Response to question 2 |\n",
    "| A3_Score      | 0 or 1 | Response to question 3 |\n",
    "| A4_Score      | 0 or 1 | Response to question 4 |\n",
    "| A5_Score      | 0 or 1 | Response to question 5 |\n",
    "| A6_Score      | 0 or 1 | Response to question 6 |\n",
    "| A7_Score      | 0 or 1 | Response to question 7 |\n",
    "| A8_Score      | 0 or 1 | Response to question 8 |\n",
    "| A9_Score      | 0 or 1 | Response to question 9 |\n",
    "| A10_Score      | 0 or 1 | Response to question 10 |\n",
    "| age      | from 4 to 64 | Age of the person |\n",
    "| gender     | 0 or 1      |   Gender of the person |\n",
    "| jundice | 0 or 1      |    Corresponds to 1 if the person has had jundice when he/she was a child |\n",
    "| austim     | 0 or 1 | Corresponds to 1 if someone in the family has had troubles related to autism |\n",
    "| used_app_before      | 0 or 1 | Corresponds to 1 if the app has already been used for that person |\n",
    "| result      | from 0 to 10 | Corresponds to the sum of scores of questions 1 to 10 |\n",
    "\n",
    "We can look upon summary statistics about the variables with the code below:"
   ]
  },
  {
   "cell_type": "code",
   "execution_count": 38,
   "metadata": {},
   "outputs": [
    {
     "data": {
      "text/html": [
       "<div>\n",
       "<style scoped>\n",
       "    .dataframe tbody tr th:only-of-type {\n",
       "        vertical-align: middle;\n",
       "    }\n",
       "\n",
       "    .dataframe tbody tr th {\n",
       "        vertical-align: top;\n",
       "    }\n",
       "\n",
       "    .dataframe thead th {\n",
       "        text-align: right;\n",
       "    }\n",
       "</style>\n",
       "<table border=\"1\" class=\"dataframe\">\n",
       "  <thead>\n",
       "    <tr style=\"text-align: right;\">\n",
       "      <th></th>\n",
       "      <th>A1_Score</th>\n",
       "      <th>A2_Score</th>\n",
       "      <th>A3_Score</th>\n",
       "      <th>A4_Score</th>\n",
       "      <th>A5_Score</th>\n",
       "      <th>A6_Score</th>\n",
       "      <th>A7_Score</th>\n",
       "      <th>A8_Score</th>\n",
       "      <th>A9_Score</th>\n",
       "      <th>A10_Score</th>\n",
       "      <th>age</th>\n",
       "      <th>gender</th>\n",
       "      <th>jundice</th>\n",
       "      <th>austim</th>\n",
       "      <th>used_app_before</th>\n",
       "      <th>result</th>\n",
       "    </tr>\n",
       "  </thead>\n",
       "  <tbody>\n",
       "    <tr>\n",
       "      <td>count</td>\n",
       "      <td>1099.000000</td>\n",
       "      <td>1099.000000</td>\n",
       "      <td>1099.000000</td>\n",
       "      <td>1099.000000</td>\n",
       "      <td>1099.000000</td>\n",
       "      <td>1099.000000</td>\n",
       "      <td>1099.000000</td>\n",
       "      <td>1099.000000</td>\n",
       "      <td>1099.000000</td>\n",
       "      <td>1099.000000</td>\n",
       "      <td>1099.000000</td>\n",
       "      <td>1099.000000</td>\n",
       "      <td>1099.000000</td>\n",
       "      <td>1099.000000</td>\n",
       "      <td>1099.000000</td>\n",
       "      <td>1099.000000</td>\n",
       "    </tr>\n",
       "    <tr>\n",
       "      <td>mean</td>\n",
       "      <td>0.698817</td>\n",
       "      <td>0.483167</td>\n",
       "      <td>0.552320</td>\n",
       "      <td>0.530482</td>\n",
       "      <td>0.587807</td>\n",
       "      <td>0.444040</td>\n",
       "      <td>0.477707</td>\n",
       "      <td>0.606005</td>\n",
       "      <td>0.413103</td>\n",
       "      <td>0.622384</td>\n",
       "      <td>21.700459</td>\n",
       "      <td>0.431301</td>\n",
       "      <td>0.150136</td>\n",
       "      <td>0.140127</td>\n",
       "      <td>0.024568</td>\n",
       "      <td>5.415833</td>\n",
       "    </tr>\n",
       "    <tr>\n",
       "      <td>std</td>\n",
       "      <td>0.458981</td>\n",
       "      <td>0.499944</td>\n",
       "      <td>0.497481</td>\n",
       "      <td>0.499297</td>\n",
       "      <td>0.492454</td>\n",
       "      <td>0.497085</td>\n",
       "      <td>0.499730</td>\n",
       "      <td>0.488856</td>\n",
       "      <td>0.492615</td>\n",
       "      <td>0.485012</td>\n",
       "      <td>12.877419</td>\n",
       "      <td>0.495483</td>\n",
       "      <td>0.357368</td>\n",
       "      <td>0.347277</td>\n",
       "      <td>0.154874</td>\n",
       "      <td>2.521125</td>\n",
       "    </tr>\n",
       "    <tr>\n",
       "      <td>min</td>\n",
       "      <td>0.000000</td>\n",
       "      <td>0.000000</td>\n",
       "      <td>0.000000</td>\n",
       "      <td>0.000000</td>\n",
       "      <td>0.000000</td>\n",
       "      <td>0.000000</td>\n",
       "      <td>0.000000</td>\n",
       "      <td>0.000000</td>\n",
       "      <td>0.000000</td>\n",
       "      <td>0.000000</td>\n",
       "      <td>4.000000</td>\n",
       "      <td>0.000000</td>\n",
       "      <td>0.000000</td>\n",
       "      <td>0.000000</td>\n",
       "      <td>0.000000</td>\n",
       "      <td>0.000000</td>\n",
       "    </tr>\n",
       "    <tr>\n",
       "      <td>25%</td>\n",
       "      <td>0.000000</td>\n",
       "      <td>0.000000</td>\n",
       "      <td>0.000000</td>\n",
       "      <td>0.000000</td>\n",
       "      <td>0.000000</td>\n",
       "      <td>0.000000</td>\n",
       "      <td>0.000000</td>\n",
       "      <td>0.000000</td>\n",
       "      <td>0.000000</td>\n",
       "      <td>0.000000</td>\n",
       "      <td>11.000000</td>\n",
       "      <td>0.000000</td>\n",
       "      <td>0.000000</td>\n",
       "      <td>0.000000</td>\n",
       "      <td>0.000000</td>\n",
       "      <td>3.000000</td>\n",
       "    </tr>\n",
       "    <tr>\n",
       "      <td>50%</td>\n",
       "      <td>1.000000</td>\n",
       "      <td>0.000000</td>\n",
       "      <td>1.000000</td>\n",
       "      <td>1.000000</td>\n",
       "      <td>1.000000</td>\n",
       "      <td>0.000000</td>\n",
       "      <td>0.000000</td>\n",
       "      <td>1.000000</td>\n",
       "      <td>0.000000</td>\n",
       "      <td>1.000000</td>\n",
       "      <td>21.000000</td>\n",
       "      <td>0.000000</td>\n",
       "      <td>0.000000</td>\n",
       "      <td>0.000000</td>\n",
       "      <td>0.000000</td>\n",
       "      <td>5.000000</td>\n",
       "    </tr>\n",
       "    <tr>\n",
       "      <td>75%</td>\n",
       "      <td>1.000000</td>\n",
       "      <td>1.000000</td>\n",
       "      <td>1.000000</td>\n",
       "      <td>1.000000</td>\n",
       "      <td>1.000000</td>\n",
       "      <td>1.000000</td>\n",
       "      <td>1.000000</td>\n",
       "      <td>1.000000</td>\n",
       "      <td>1.000000</td>\n",
       "      <td>1.000000</td>\n",
       "      <td>30.000000</td>\n",
       "      <td>1.000000</td>\n",
       "      <td>0.000000</td>\n",
       "      <td>0.000000</td>\n",
       "      <td>0.000000</td>\n",
       "      <td>7.500000</td>\n",
       "    </tr>\n",
       "    <tr>\n",
       "      <td>max</td>\n",
       "      <td>1.000000</td>\n",
       "      <td>1.000000</td>\n",
       "      <td>1.000000</td>\n",
       "      <td>1.000000</td>\n",
       "      <td>1.000000</td>\n",
       "      <td>1.000000</td>\n",
       "      <td>1.000000</td>\n",
       "      <td>1.000000</td>\n",
       "      <td>1.000000</td>\n",
       "      <td>1.000000</td>\n",
       "      <td>64.000000</td>\n",
       "      <td>1.000000</td>\n",
       "      <td>1.000000</td>\n",
       "      <td>1.000000</td>\n",
       "      <td>1.000000</td>\n",
       "      <td>10.000000</td>\n",
       "    </tr>\n",
       "  </tbody>\n",
       "</table>\n",
       "</div>"
      ],
      "text/plain": [
       "          A1_Score     A2_Score     A3_Score     A4_Score     A5_Score  \\\n",
       "count  1099.000000  1099.000000  1099.000000  1099.000000  1099.000000   \n",
       "mean      0.698817     0.483167     0.552320     0.530482     0.587807   \n",
       "std       0.458981     0.499944     0.497481     0.499297     0.492454   \n",
       "min       0.000000     0.000000     0.000000     0.000000     0.000000   \n",
       "25%       0.000000     0.000000     0.000000     0.000000     0.000000   \n",
       "50%       1.000000     0.000000     1.000000     1.000000     1.000000   \n",
       "75%       1.000000     1.000000     1.000000     1.000000     1.000000   \n",
       "max       1.000000     1.000000     1.000000     1.000000     1.000000   \n",
       "\n",
       "          A6_Score     A7_Score     A8_Score     A9_Score    A10_Score  \\\n",
       "count  1099.000000  1099.000000  1099.000000  1099.000000  1099.000000   \n",
       "mean      0.444040     0.477707     0.606005     0.413103     0.622384   \n",
       "std       0.497085     0.499730     0.488856     0.492615     0.485012   \n",
       "min       0.000000     0.000000     0.000000     0.000000     0.000000   \n",
       "25%       0.000000     0.000000     0.000000     0.000000     0.000000   \n",
       "50%       0.000000     0.000000     1.000000     0.000000     1.000000   \n",
       "75%       1.000000     1.000000     1.000000     1.000000     1.000000   \n",
       "max       1.000000     1.000000     1.000000     1.000000     1.000000   \n",
       "\n",
       "               age       gender      jundice       austim  used_app_before  \\\n",
       "count  1099.000000  1099.000000  1099.000000  1099.000000      1099.000000   \n",
       "mean     21.700459     0.431301     0.150136     0.140127         0.024568   \n",
       "std      12.877419     0.495483     0.357368     0.347277         0.154874   \n",
       "min       4.000000     0.000000     0.000000     0.000000         0.000000   \n",
       "25%      11.000000     0.000000     0.000000     0.000000         0.000000   \n",
       "50%      21.000000     0.000000     0.000000     0.000000         0.000000   \n",
       "75%      30.000000     1.000000     0.000000     0.000000         0.000000   \n",
       "max      64.000000     1.000000     1.000000     1.000000         1.000000   \n",
       "\n",
       "            result  \n",
       "count  1099.000000  \n",
       "mean      5.415833  \n",
       "std       2.521125  \n",
       "min       0.000000  \n",
       "25%       3.000000  \n",
       "50%       5.000000  \n",
       "75%       7.500000  \n",
       "max      10.000000  "
      ]
     },
     "execution_count": 38,
     "metadata": {},
     "output_type": "execute_result"
    }
   ],
   "source": [
    "# Summary statistics upon X variables \n",
    "analyse.drop('Class/ASD', axis=1).describe()"
   ]
  },
  {
   "cell_type": "markdown",
   "metadata": {},
   "source": [
    "## 6. Visualizing the data\n",
    "\n",
    "### 6.1. Bar plot\n",
    "\n",
    "I started by plotting the variable result (which equals to the sum of responses to the 10 questions) in function of ASD (autism=0 if the child is not on the spectrum, autism=1 if he is)."
   ]
  },
  {
   "cell_type": "code",
   "execution_count": 39,
   "metadata": {},
   "outputs": [
    {
     "data": {
      "image/png": "[encoded data removed]",
      "text/plain": [
       "<Figure size 432x288 with 1 Axes>"
      ]
     },
     "metadata": {
      "needs_background": "light"
     },
     "output_type": "display_data"
    }
   ],
   "source": [
    "data.boxplot(column='result', by=\"Class/ASD\", rot=90)\n",
    "plt.show()"
   ]
  },
  {
   "cell_type": "markdown",
   "metadata": {},
   "source": [
    "### 6.2. Principal Component Analysis\n",
    "\n",
    "The problem in that visualization is that it allows us only to plot one variable in function of the target variable (autism). I therefore choose to realize a PCA, or Principal Component Analysis, which analyses the principal components in a dataset, in order to reduce dimensionality. "
   ]
  },
  {
   "cell_type": "code",
   "execution_count": 40,
   "metadata": {},
   "outputs": [],
   "source": [
    "# Creating the scaler\n",
    "scaler = StandardScaler()\n",
    "\n",
    "# We fit and transform our data relatively to that scaler\n",
    "X_scale = scaler.fit_transform(X)\n",
    "\n",
    "#We initiate the PCA object with 3 components\n",
    "pca = PCA(n_components=3)\n",
    "\n",
    "# We fit and transform our data with that scaler\n",
    "principal_components = pca.fit_transform(X_scale)\n",
    "\n",
    "# We create a data set with the principal components and the target variable\n",
    "final = pd.DataFrame(data = principal_components, columns = ['PC1', 'PC2', 'PC3'])\n",
    "final = final.assign(y=analyse[['Class/ASD']].values)"
   ]
  },
  {
   "cell_type": "markdown",
   "metadata": {},
   "source": [
    "We want to look at whether one component outweight the other. In fact, if one was very important, we would not need to build a big algorithm but only predict the target directly from one variable."
   ]
  },
  {
   "cell_type": "code",
   "execution_count": 41,
   "metadata": {
    "scrolled": false
   },
   "outputs": [
    {
     "name": "stdout",
     "output_type": "stream",
     "text": [
      "[[-0.14111817 -0.16951758 -0.30290841 -0.30360359 -0.32457725 -0.35860915\n",
      "  -0.20935877 -0.12366218 -0.34942318 -0.26878607  0.12660633  0.00738635\n",
      "  -0.08942502 -0.08150383 -0.02249078 -0.49877319]\n",
      " [-0.42891506  0.0829091   0.14469588 -0.18322968  0.03012434  0.18370182\n",
      "   0.03395762 -0.30091074 -0.03438193 -0.06980643 -0.53948884 -0.33648071\n",
      "   0.31939562 -0.15784469  0.28501529 -0.09904017]\n",
      " [-0.11795944  0.40200421  0.1509693   0.16678937 -0.09621403  0.02595713\n",
      "  -0.39008283 -0.36980746  0.04542471 -0.09633336  0.17758175  0.39843378\n",
      "   0.30610485  0.41838115  0.04485773 -0.05129551]]\n"
     ]
    }
   ],
   "source": [
    "# We print pca's components \n",
    "print(pca.components_)"
   ]
  },
  {
   "cell_type": "markdown",
   "metadata": {},
   "source": [
    "We see that there is no variable that is significantly high relative to the other. It is therefore meaningful to predict autism on the basis of all variables or at least more than one of them. "
   ]
  },
  {
   "cell_type": "code",
   "execution_count": 42,
   "metadata": {},
   "outputs": [
    {
     "data": {
      "image/png": "[encoded data removed]",
      "text/plain": [
       "<Figure size 576x576 with 1 Axes>"
      ]
     },
     "metadata": {
      "needs_background": "light"
     },
     "output_type": "display_data"
    }
   ],
   "source": [
    "# Plotting the data in function of the principal components \n",
    "\n",
    "# I create the space upon which I will plot the data\n",
    "fig = plt.figure(figsize = (8,8)) \n",
    "ax = fig.add_subplot(1,1,1) \n",
    "ax.grid()\n",
    "\n",
    "# I set the labels and title of the plot\n",
    "ax.set_xlabel('Principal Component 1', fontsize = 15)\n",
    "ax.set_ylabel('Principal Component 2', fontsize = 15)\n",
    "ax.set_title('2 component PCA', fontsize = 20)\n",
    "\n",
    "# I make a scatter plot with the first two components as X and Y and the target variable (final['y']) as the color of the points\n",
    "scatter = plt.scatter(principal_components[:,0], principal_components[:,1], c = final['y'], s=50, label = final['y']) # We select the first two components to be plotted\n",
    "\n",
    "# I create the legend for the color \n",
    "legend1 = ax.legend(*scatter.legend_elements(), loc=\"upper right\", title=\"ASD\")\n",
    "ax.add_artist(legend1)\n",
    "\n",
    "# I show the plot\n",
    "plt.show()"
   ]
  },
  {
   "cell_type": "markdown",
   "metadata": {},
   "source": [
    "Here, I see that I can explain a lot with only two components. **But how much does the other components explain ?** \n",
    "In order to answer this question, I can do two things :\n",
    "* **plot how much the component explains variance** : the PCA calculate the weight of every component in the explained variance of the model. It is stored in the explained_variance_ attribute of the PCA (available at pca.explained_variance_). I see that the first component has a huge weight in the explained variance. *But this method does not show us the percentage of total variance.*"
   ]
  },
  {
   "cell_type": "code",
   "execution_count": 43,
   "metadata": {},
   "outputs": [
    {
     "data": {
      "image/png": "[encoded data removed]",
      "text/plain": [
       "<Figure size 432x288 with 1 Axes>"
      ]
     },
     "metadata": {
      "needs_background": "light"
     },
     "output_type": "display_data"
    }
   ],
   "source": [
    "# Plot the explained variances\n",
    "pca = PCA()\n",
    "pca.fit_transform(X_scale)\n",
    "features = range(pca.n_components_) # I store the weight of the components in \"features\" variable\n",
    "plt.bar(features, pca.explained_variance_) # I plot the different components as a bar plot\n",
    "\n",
    "# I set the labels\n",
    "plt.xlabel('PCA feature')\n",
    "plt.ylabel('variance')\n",
    "plt.xticks(features)\n",
    "\n",
    "# I show the plot \n",
    "plt.show()"
   ]
  },
  {
   "cell_type": "markdown",
   "metadata": {},
   "source": [
    "* **plot the ratio of variance explained by the components** : it is stored in the PCA's explained_variance_ratio_ attribute. I can print it or plot it, as I have done below. If I want to explain autism with a reduced amount of components, I can choose to explain 80% of variance for example, and therefore use only the 10 first components (when the ratio is higher than 0.8). "
   ]
  },
  {
   "cell_type": "code",
   "execution_count": 44,
   "metadata": {},
   "outputs": [
    {
     "name": "stdout",
     "output_type": "stream",
     "text": [
      "[0.24366262 0.33229455 0.40858556 0.47390709 0.53576303 0.59727539\n",
      " 0.65467179 0.70998047 0.76023197 0.80710896 0.85285476 0.89428021\n",
      " 0.93489365 0.97111163 1.         1.        ]\n"
     ]
    },
    {
     "data": {
      "image/png": "[encoded data removed]",
      "text/plain": [
       "<Figure size 432x288 with 1 Axes>"
      ]
     },
     "metadata": {
      "needs_background": "light"
     },
     "output_type": "display_data"
    }
   ],
   "source": [
    "# Print the explained_variance_ratio cumulated to see how many components it is required to explain a certain amount of variance\n",
    "print(pca.explained_variance_ratio_.cumsum())\n",
    "\n",
    "\n",
    "# Plot the explained variance ratios\n",
    "plt.bar(features, pca.explained_variance_ratio_.cumsum()) # I plot the different components as a bar plot\n",
    "\n",
    "# I create a line at 80% of cumulated variance\n",
    "x = range(17)\n",
    "y=np.zeros((17,))\n",
    "for i in range(17):\n",
    "    y[i]=0.8\n",
    "plt.plot(x, y, '-r', label='y=2x+1')\n",
    "\n",
    "# I set the labels\n",
    "plt.xlabel('PCA feature')\n",
    "plt.ylabel('Cumulated explained variance ratio')\n",
    "plt.xticks(features)\n",
    "\n",
    "# I show the plot \n",
    "plt.show()"
   ]
  },
  {
   "cell_type": "markdown",
   "metadata": {},
   "source": [
    "## 7. Testing models\n",
    "\n",
    "In order to know whether one specific model can predict well our data, I test their implemented version in scikit learn (a Python package with already implemented machine learning algorithm). I will then choose which one I want to implement myself. \n",
    "\n",
    "### 7.1. K-Nearest Neighbors\n",
    "\n",
    "For this classification, K-Nearest Neighbor predicts the value of an observation (autist or not) on the basis of the values of its _k_ closest neighbors. So, if I choose k=6, the algorithm is going to predict the value of one point based on the mean values of its neighbor. If it close to 4 autists and 2 non-autists, it will be classified as autist. "
   ]
  },
  {
   "cell_type": "code",
   "execution_count": 65,
   "metadata": {},
   "outputs": [
    {
     "name": "stdout",
     "output_type": "stream",
     "text": [
      "0.9818181818181818\n"
     ]
    }
   ],
   "source": [
    "# Create a k-NN classifier with 6 neighbors\n",
    "knn = KNeighborsClassifier(n_neighbors=6) # I use the KNeighborClassifier function of scikit learn\n",
    "\n",
    "# In order to have a sample in which I can test my model, I split my data set\n",
    "X_train, X_test, y_train, y_test = train_test_split(X, list(y), # the data I want to split\n",
    "                                                    test_size = 0.3, # I keep 30% for my test set\n",
    "                                                    random_state=42, # number to divide the set randomly\n",
    "                                                    stratify=y) # I stratify conserving the distribution of y in my data set\n",
    "\n",
    "# Fit the classifier to the data \n",
    "knn.fit(X_train, y_train) \n",
    "\n",
    "# I predict the values of y from X_test: y_pred\n",
    "y_pred = knn.predict(X_test)\n",
    "\n",
    "# I compute the score of the model: how much the prediction is accurate \n",
    "print(knn.score(X_test, y_test))"
   ]
  },
  {
   "cell_type": "code",
   "execution_count": 66,
   "metadata": {},
   "outputs": [
    {
     "name": "stdout",
     "output_type": "stream",
     "text": [
      "0.9757575757575757\n"
     ]
    }
   ],
   "source": [
    "# I make the same but I change my data: instead of taking the raw data, I take the principal components of my PCA\n",
    "X2_train, X2_test, y2_train, y2_test = train_test_split(principal_components[:,0:2], y, test_size = 0.3, random_state=42, stratify=y)\n",
    "\n",
    "# Create a k-NN classifier with 6 neighbors\n",
    "knn2 = KNeighborsClassifier(n_neighbors=6)\n",
    "\n",
    "# Fit the classifier to the data\n",
    "knn2.fit(X2_train, y_train)\n",
    "\n",
    "# Predict the values of y from X_test: y_pred\n",
    "y_pred = knn2.predict(X2_test)\n",
    "\n",
    "# Computing the score of the model \n",
    "print(knn2.score(X2_test, y_test))"
   ]
  },
  {
   "cell_type": "markdown",
   "metadata": {},
   "source": [
    "The score is better for raw data than transformed data from PCA. "
   ]
  },
  {
   "cell_type": "markdown",
   "metadata": {},
   "source": [
    "### 7.2. Logistic Regression"
   ]
  },
  {
   "cell_type": "code",
   "execution_count": 67,
   "metadata": {
    "scrolled": false
   },
   "outputs": [
    {
     "name": "stdout",
     "output_type": "stream",
     "text": [
      "0.990909090909091\n"
     ]
    },
    {
     "name": "stderr",
     "output_type": "stream",
     "text": [
      "/opt/anaconda3/lib/python3.7/site-packages/sklearn/linear_model/logistic.py:432: FutureWarning: Default solver will be changed to 'lbfgs' in 0.22. Specify a solver to silence this warning.\n",
      "  FutureWarning)\n"
     ]
    }
   ],
   "source": [
    "# Create Logistic Regression Classifier \n",
    "reg = LogisticRegression()\n",
    "\n",
    "# Fit the Classifier to the train data set \n",
    "reg.fit(X_train, y_train)\n",
    "\n",
    "# Predict the values from X_test\n",
    "y_pred=reg.predict(X_test)\n",
    "\n",
    "# Print the score of the model\n",
    "print(reg.score(X_test, y_test))"
   ]
  },
  {
   "cell_type": "markdown",
   "metadata": {},
   "source": [
    "We see here that the score is better. Nevertheless, I did not have the necessary background in mathematics to implement a Logistic Regression model so I chose the K-Nearest Neighbor."
   ]
  },
  {
   "cell_type": "markdown",
   "metadata": {},
   "source": [
    "## 8. Implementation of K-Nearest Neighbors\n",
    "\n",
    "\n",
    "The idea is to classify data on the basis of their euclidian distance to the other points. The euclidian distance is a distance that calculate the square root of the sum of the squared difference between the coordinates of two points:\n",
    "\n",
    "$$ \\begin{equation}  D_{e}(x,y) = \\sqrt{\\sum_{j=1}^n (x_{j} - y_{j})^{2}} \\end{equation} $$\n",
    "\n",
    "The basis of the model is that we are going to look at a certain number _k_ of points close to the point we want to predict the value. Then, we will predict his value based on the mean of the _k_ points close to it."
   ]
  },
  {
   "cell_type": "code",
   "execution_count": 57,
   "metadata": {},
   "outputs": [],
   "source": [
    "# Defining the Euclidian distance function \n",
    "def EuclidianDistance(row1, row2):\n",
    "    return np.sqrt(np.dot(np.array(row1)-np.array(row2),np.array(row1)-np.array(row2)))"
   ]
  },
  {
   "cell_type": "markdown",
   "metadata": {},
   "source": [
    "### 8.1. Fit step\n",
    "\n",
    "Every machine learning algorithm starts with a step in which we fit the model to the data. In a K-Nearest Neighbors algorithm, there is no real model to fit because each prediction is made on the basis of the training observations. In the fit step, we only store the training data in the X_train and y_train variables. \n",
    "We also set the number of neighbors."
   ]
  },
  {
   "cell_type": "code",
   "execution_count": 76,
   "metadata": {},
   "outputs": [],
   "source": [
    "# W we store the training data and define the number of neighbor\n",
    "X2_train = X2_train\n",
    "y_train = y_train\n",
    "k = 3 # Number of neighbours"
   ]
  },
  {
   "cell_type": "markdown",
   "metadata": {},
   "source": [
    "### 8.2. Predict step\n",
    "\n",
    "This is in this step that we predict the values from the training set we have loaded. \n",
    "First, we create a \"distance\" matrix. This is at the beginnning an empty matrix. With a for loop, we calculate the distance between observation _i_ of the test set with the observation _j_ of the train set. "
   ]
  },
  {
   "cell_type": "code",
   "execution_count": 77,
   "metadata": {},
   "outputs": [],
   "source": [
    "# For every observation in X_test, we calculate the distance to all X_train observations. \n",
    "N = X_test.shape[0] # number of observation in X_test\n",
    "M = X_train.shape[0] # number of observation in X_train\n",
    "distance=np.zeros((N, M)) # We create an empty matrix to be filled by the distances\n",
    "for i in range(N):\n",
    "    for j in range(M):\n",
    "        distance[i, j] = EuclidianDistance(X2_test[i,:], X2_train[j,:]) # we calculate the Euclidian distance for the observation i of the X_test, and the observation j of the X_train"
   ]
  },
  {
   "cell_type": "markdown",
   "metadata": {},
   "source": [
    "Then, for every observation in X_test, we compute the mean of the _k_ neighbors. We sort the indexes from the closest to the farest, and then we compute the mean based on the k first indexes. We then round the mean because we want a value that equals 0 or 1 (autistic or not). It is important that we round the mean to the higher value: we prefer to diagnosis someone that is not autist as autist rather than making a mistake by telling someone he's not autist when he is. Therefore, when the mean is 0.5, we prefer to tell that the person is autist (therefore we round the mean to 1). "
   ]
  },
  {
   "cell_type": "code",
   "execution_count": 78,
   "metadata": {},
   "outputs": [],
   "source": [
    "# For every X_test, we look at the k neighbors, and predict on the basis of the y values of the neighbors\n",
    "y_pred = np.zeros(N, dtype=int)\n",
    "for i in range(N):\n",
    "    sorted_indices=np.argsort(distance[i,:]) # we take the indexes of the neighbors from the closest to the farest \n",
    "    y_pred[i] = np.round(np.mean(np.array(y_train)[sorted_indices[:k]])) # We make the rounded mean on the basis of the K closest"
   ]
  },
  {
   "cell_type": "markdown",
   "metadata": {},
   "source": [
    "### 8.3. Test step\n",
    "\n",
    "The last step of a machine learning algorithm is the test step: we want to tell whether our model is good or not in predicting. The first step is to calculate the percentage of accurate predictions, therefore the percentage of persons that had been predicted what they really are ($ y_{pred} = y_{test} $)."
   ]
  },
  {
   "cell_type": "code",
   "execution_count": 79,
   "metadata": {},
   "outputs": [
    {
     "name": "stdout",
     "output_type": "stream",
     "text": [
      "97.87878787878788\n"
     ]
    }
   ],
   "source": [
    "print(np.mean(np.array(y_pred) == np.array(y_test))*100) # We calculate the percentage of accurate predictions"
   ]
  },
  {
   "cell_type": "markdown",
   "metadata": {},
   "source": [
    "#### Confusion matrix\n",
    "\n",
    "Another way to tell whether our model is a good model is not looking just at the accurate predictions but to the biases that a model can have. In fact, imagine a data set of 100 observations with only one autist. If the model is always saying that the person is not autist, it will have a 99% accuracy. But is that what we want? It's what a confusion matrix is doing:\n",
    "\n",
    "<img src=\"photos/confusion_matrix.png\" alt=\"asd\" width=\"400\"/>\n",
    "\n",
    "We want especially to look at the proportion of two types of error:\n",
    "* **_Type I Error or false positives_**: it means that you have predicted that someone is autist when he is not.\n",
    "* **_Type II Error or false negatives_**: it means that you have predicted that someone is not autist when he is.\n",
    "\n",
    "In the case of our data set, I chose to minimize the Type II error (that's why I rounded the mean for example)."
   ]
  },
  {
   "cell_type": "code",
   "execution_count": 80,
   "metadata": {},
   "outputs": [
    {
     "data": {
      "text/plain": [
       "<matplotlib.colorbar.Colorbar at 0x1a1ef58ed0>"
      ]
     },
     "execution_count": 80,
     "metadata": {},
     "output_type": "execute_result"
    },
    {
     "data": {
      "image/png": "[encoded data removed]",
      "text/plain": [
       "<Figure size 432x288 with 2 Axes>"
      ]
     },
     "metadata": {
      "needs_background": "light"
     },
     "output_type": "display_data"
    }
   ],
   "source": [
    "# Confusion matrix\n",
    "false_negative=np.sum((np.array(y_test) == 1) & (y_pred == 0))/np.sum(np.array(y_test) == 1)\n",
    "true_negative=np.sum((np.array(y_test) == 0) & (y_pred == 0))/np.sum(np.array(y_test) == 0)\n",
    "true_positive=np.sum((np.array(y_test) == 1) & (y_pred == 1))/np.sum(np.array(y_test) == 1)\n",
    "false_positive=np.sum((np.array(y_test) == 0) & (y_pred == 1))/np.sum(np.array(y_test) == 0)\n",
    "\n",
    "# I create a matrix in percentage, with only three decimals, to be more readable\n",
    "percent_matrix=np.round(np.array([[true_negative, false_negative], [false_positive, true_positive]])*100, 3)\n",
    "\n",
    "# I plot the values and what they correspond to upon the plot\n",
    "s = [['True Negative','False positive'], ['False negative', 'True positive']]\n",
    "for i in range(2):\n",
    "    for j in range(2):\n",
    "        plt.text(j,i, str(s[j][i])+\" = \"+ str(percent_matrix[i][j]), ha='center',va='top', bbox=dict(facecolor='white', alpha=0.6), fontsize=9)\n",
    "    \n",
    "# I set the labels of the axis and the title of the plot\n",
    "plt.ylabel('Predicted autism')\n",
    "plt.xlabel('True autism')\n",
    "plt.title('Confusion matrix of k-nearest neighbor algorithm', fontdict = {'weight' : 'bold','size': 12})\n",
    "\n",
    "# I set the x-ticks and y-ticks\n",
    "classNames = ['Not Autist','Autist']\n",
    "plt.xticks(np.arange(2), classNames, rotation=45)\n",
    "plt.yticks(np.arange(2), classNames)\n",
    "\n",
    "# I show the matrix\n",
    "plt.imshow(percent_matrix, aspect='auto')  \n",
    "plt.colorbar()\n"
   ]
  },
  {
   "cell_type": "markdown",
   "metadata": {},
   "source": [
    "Here, I still have more false negatives than false positives. It may be due to one bias of my dataset: I have less autists than people that are not on the spectrum. Therefore, the model, because it is related to the neighbors, much more numerous when it comes to non autist people. "
   ]
  }
 ],
 "metadata": {
  "kernelspec": {
   "display_name": "Python 3",
   "language": "python",
   "name": "python3"
  },
  "language_info": {
   "codemirror_mode": {
    "name": "ipython",
    "version": 3
   },
   "file_extension": ".py",
   "mimetype": "text/x-python",
   "name": "python",
   "nbconvert_exporter": "python",
   "pygments_lexer": "ipython3",
   "version": "3.7.4"
  }
 },
 "nbformat": 4,
 "nbformat_minor": 2
}
