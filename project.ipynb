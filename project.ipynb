{
 "cells": [
  {
   "cell_type": "markdown",
   "metadata": {},
   "source": [
    "# Machine learning on autism data\n",
    "\n",
    "## Importing the required modules"
   ]
  },
  {
   "cell_type": "code",
   "execution_count": 4,
   "metadata": {},
   "outputs": [],
   "source": [
    "from scipy.io import arff\n",
    "import pandas as pd \n",
    "import numpy as np\n",
    "import matplotlib.pyplot as plt\n",
    "from sklearn.decomposition import PCA\n",
    "from sklearn.preprocessing import StandardScaler\n",
    "from sklearn.neighbors import KNeighborsClassifier\n",
    "from sklearn.model_selection import train_test_split"
   ]
  },
  {
   "cell_type": "markdown",
   "metadata": {},
   "source": [
    "## Loading the data\n",
    "\n",
    "The data is arff files, which contain two parts : one with metadata, and one with data. The first 10 columns are  responses to 10 different questions about their life habits. We also have data about the person : gender, ethnicity, jundice when he was young, country, age, whether one parent have a ASD-like trouble ('austim')... We also know if the child is autistic or not ('Class/ASD'). We also have a few information about the person responding the questionnaire (its relation to the child, its use of the app before etc.). \n",
    "\n",
    "We have three different data sets (child, adolescent, adult) that I want to merge into a single one in order to have more observations and therefore better predictions. "
   ]
  },
  {
   "cell_type": "code",
   "execution_count": 5,
   "metadata": {},
   "outputs": [],
   "source": [
    "# I load the data from the arff file into two files (data and meta) for each data set \n",
    "data_child, meta_child =arff.loadarff('Autism-Child-Data.arff')\n",
    "data_child=pd.DataFrame(data_child)\n",
    "\n",
    "data_ado, meta_ado =arff.loadarff('Autism-Adolescent-Data.arff')\n",
    "data_ado=pd.DataFrame(data_ado)\n",
    "\n",
    "data_adult, meta_adult =arff.loadarff('Autism-Adult-Data.arff')\n",
    "data_adult=pd.DataFrame(data_adult)\n",
    "\n",
    "# I store the names of columns in different lists to check whether we have the same variables\n",
    "names_child=list(data_child.columns.values)\n",
    "names_ado=list(data_ado.columns.values)\n",
    "names_adult=list(data_adult.columns.values)\n",
    "\n",
    "# I assert that the variables are the same\n",
    "assert names_child==names_ado\n",
    "assert names_child==names_adult"
   ]
  },
  {
   "cell_type": "markdown",
   "metadata": {},
   "source": [
    "## Handling missing values\n",
    "\n",
    "I want to handle missing values by replacing it by their mean. I want to to this before merging the different data sets because I hypothesis that some variables are very different from a child to an adult. Therefore, I search for missing values and handle it before merging the datasets. "
   ]
  },
  {
   "cell_type": "code",
   "execution_count": 6,
   "metadata": {},
   "outputs": [
    {
     "name": "stdout",
     "output_type": "stream",
     "text": [
      "There are missing values in the child dataset in the age column\n",
      "There are missing values in the adult dataset in the age column\n"
     ]
    }
   ],
   "source": [
    "# I want to know where my missing values are.\n",
    "for name in names_child:\n",
    "    if data_child[name].isnull().sum()!=0:\n",
    "        print(\"There are missing values in the child dataset in the \" + name + \" column\")\n",
    "    if data_ado[name].isnull().sum()!=0:\n",
    "        print(\"There are missing values in the adolescent dataset in the \" + name + \" column\")\n",
    "    if data_adult[name].isnull().sum()!=0:\n",
    "        print(\"There are missing values in the adult dataset in the \" + name + \" column\")"
   ]
  },
  {
   "cell_type": "markdown",
   "metadata": {},
   "source": [
    "We observe that missing values are only present on age variable in child and adult datasets. I can replace them by the mean of their category (mean age of children, mean age of adults)."
   ]
  },
  {
   "cell_type": "code",
   "execution_count": 7,
   "metadata": {},
   "outputs": [],
   "source": [
    "# Fill nas with the mean of the column\n",
    "age_mean_child=data_child.age.mean()\n",
    "data_child['age']=data_child['age'].fillna(age_mean_child)\n",
    "\n",
    "age_mean_ado=data_ado.age.mean()\n",
    "data_ado['age']=data_ado['age'].fillna(age_mean_ado)\n",
    "\n",
    "age_mean_adult=data_adult.age.mean()\n",
    "data_adult['age']=data_adult['age'].fillna(age_mean_adult)\n",
    "\n",
    "for name in names_child:\n",
    "    assert data_child[name].isnull().sum()==0\n",
    "    assert data_ado[name].isnull().sum()==0\n",
    "    assert data_adult[name].isnull().sum()==0"
   ]
  },
  {
   "cell_type": "markdown",
   "metadata": {},
   "source": [
    "## Merging datasets\n",
    "\n",
    "I merge the three datasets. We should have always the same number of variables (21) and a number of observations which equals the sum of all observations (292+104+704 = 1100)."
   ]
  },
  {
   "cell_type": "code",
   "execution_count": 8,
   "metadata": {},
   "outputs": [
    {
     "name": "stdout",
     "output_type": "stream",
     "text": [
      "(292, 21)\n",
      "(104, 21)\n",
      "(704, 21)\n",
      "(1100, 21)\n"
     ]
    }
   ],
   "source": [
    "data=pd.concat([data_child, data_ado, data_adult])\n",
    "print(data_child.shape)\n",
    "print(data_ado.shape)\n",
    "print(data_adult.shape)\n",
    "print(data.shape)\n",
    "\n",
    "names=list(data.columns.values)"
   ]
  },
  {
   "cell_type": "markdown",
   "metadata": {},
   "source": [
    "## Tidying data\n",
    "\n",
    "We start by turning values into numerical values."
   ]
  },
  {
   "cell_type": "code",
   "execution_count": 9,
   "metadata": {},
   "outputs": [
    {
     "name": "stdout",
     "output_type": "stream",
     "text": [
      "<class 'pandas.core.frame.DataFrame'>\n",
      "Int64Index: 1100 entries, 0 to 703\n",
      "Data columns (total 21 columns):\n",
      "A1_Score           1100 non-null int64\n",
      "A2_Score           1100 non-null int64\n",
      "A3_Score           1100 non-null int64\n",
      "A4_Score           1100 non-null int64\n",
      "A5_Score           1100 non-null int64\n",
      "A6_Score           1100 non-null int64\n",
      "A7_Score           1100 non-null int64\n",
      "A8_Score           1100 non-null int64\n",
      "A9_Score           1100 non-null int64\n",
      "A10_Score          1100 non-null int64\n",
      "age                1100 non-null float64\n",
      "gender             1100 non-null object\n",
      "ethnicity          1100 non-null object\n",
      "jundice            1100 non-null object\n",
      "austim             1100 non-null object\n",
      "contry_of_res      1100 non-null object\n",
      "used_app_before    1100 non-null object\n",
      "result             1100 non-null float64\n",
      "age_desc           1100 non-null object\n",
      "relation           1100 non-null object\n",
      "Class/ASD          1100 non-null object\n",
      "dtypes: float64(2), int64(10), object(9)\n",
      "memory usage: 189.1+ KB\n"
     ]
    }
   ],
   "source": [
    "#Turn the numeric strings in real numerical data\n",
    "numeric=names[0:11]\n",
    "for name in numeric:\n",
    "    data[name]=pd.to_numeric(data[name])\n",
    "\n",
    "data['result']=pd.to_numeric(data['result'])\n",
    "data['age']=pd.to_numeric(data['age'])\n",
    "\n",
    "data.info()"
   ]
  },
  {
   "cell_type": "markdown",
   "metadata": {},
   "source": [
    "We turn our binary variables into numerical ones. I chose to recode as it follows:\n",
    "- for gender, 0 is man and 1 is woman\n",
    "- for autism, jundice, and used_app_before,  0 is no and 1 is yes"
   ]
  },
  {
   "cell_type": "code",
   "execution_count": 10,
   "metadata": {},
   "outputs": [
    {
     "data": {
      "text/html": [
       "<div>\n",
       "<style scoped>\n",
       "    .dataframe tbody tr th:only-of-type {\n",
       "        vertical-align: middle;\n",
       "    }\n",
       "\n",
       "    .dataframe tbody tr th {\n",
       "        vertical-align: top;\n",
       "    }\n",
       "\n",
       "    .dataframe thead th {\n",
       "        text-align: right;\n",
       "    }\n",
       "</style>\n",
       "<table border=\"1\" class=\"dataframe\">\n",
       "  <thead>\n",
       "    <tr style=\"text-align: right;\">\n",
       "      <th></th>\n",
       "      <th>A1_Score</th>\n",
       "      <th>A2_Score</th>\n",
       "      <th>A3_Score</th>\n",
       "      <th>A4_Score</th>\n",
       "      <th>A5_Score</th>\n",
       "      <th>A6_Score</th>\n",
       "      <th>A7_Score</th>\n",
       "      <th>A8_Score</th>\n",
       "      <th>A9_Score</th>\n",
       "      <th>A10_Score</th>\n",
       "      <th>...</th>\n",
       "      <th>gender</th>\n",
       "      <th>ethnicity</th>\n",
       "      <th>jundice</th>\n",
       "      <th>austim</th>\n",
       "      <th>contry_of_res</th>\n",
       "      <th>used_app_before</th>\n",
       "      <th>result</th>\n",
       "      <th>age_desc</th>\n",
       "      <th>relation</th>\n",
       "      <th>Class/ASD</th>\n",
       "    </tr>\n",
       "  </thead>\n",
       "  <tbody>\n",
       "    <tr>\n",
       "      <td>0</td>\n",
       "      <td>1</td>\n",
       "      <td>1</td>\n",
       "      <td>0</td>\n",
       "      <td>0</td>\n",
       "      <td>1</td>\n",
       "      <td>1</td>\n",
       "      <td>0</td>\n",
       "      <td>1</td>\n",
       "      <td>0</td>\n",
       "      <td>0</td>\n",
       "      <td>...</td>\n",
       "      <td>0</td>\n",
       "      <td>b'Others'</td>\n",
       "      <td>0</td>\n",
       "      <td>0</td>\n",
       "      <td>b'Jordan'</td>\n",
       "      <td>0</td>\n",
       "      <td>5.0</td>\n",
       "      <td>b'4-11 years'</td>\n",
       "      <td>b'Parent'</td>\n",
       "      <td>0</td>\n",
       "    </tr>\n",
       "    <tr>\n",
       "      <td>1</td>\n",
       "      <td>1</td>\n",
       "      <td>1</td>\n",
       "      <td>0</td>\n",
       "      <td>0</td>\n",
       "      <td>1</td>\n",
       "      <td>1</td>\n",
       "      <td>0</td>\n",
       "      <td>1</td>\n",
       "      <td>0</td>\n",
       "      <td>0</td>\n",
       "      <td>...</td>\n",
       "      <td>0</td>\n",
       "      <td>b'Middle Eastern '</td>\n",
       "      <td>0</td>\n",
       "      <td>0</td>\n",
       "      <td>b'Jordan'</td>\n",
       "      <td>0</td>\n",
       "      <td>5.0</td>\n",
       "      <td>b'4-11 years'</td>\n",
       "      <td>b'Parent'</td>\n",
       "      <td>0</td>\n",
       "    </tr>\n",
       "    <tr>\n",
       "      <td>2</td>\n",
       "      <td>1</td>\n",
       "      <td>1</td>\n",
       "      <td>0</td>\n",
       "      <td>0</td>\n",
       "      <td>0</td>\n",
       "      <td>1</td>\n",
       "      <td>1</td>\n",
       "      <td>1</td>\n",
       "      <td>0</td>\n",
       "      <td>0</td>\n",
       "      <td>...</td>\n",
       "      <td>0</td>\n",
       "      <td>b'?'</td>\n",
       "      <td>0</td>\n",
       "      <td>0</td>\n",
       "      <td>b'Jordan'</td>\n",
       "      <td>1</td>\n",
       "      <td>5.0</td>\n",
       "      <td>b'4-11 years'</td>\n",
       "      <td>b'?'</td>\n",
       "      <td>0</td>\n",
       "    </tr>\n",
       "    <tr>\n",
       "      <td>3</td>\n",
       "      <td>0</td>\n",
       "      <td>1</td>\n",
       "      <td>0</td>\n",
       "      <td>0</td>\n",
       "      <td>1</td>\n",
       "      <td>1</td>\n",
       "      <td>0</td>\n",
       "      <td>0</td>\n",
       "      <td>0</td>\n",
       "      <td>1</td>\n",
       "      <td>...</td>\n",
       "      <td>1</td>\n",
       "      <td>b'?'</td>\n",
       "      <td>1</td>\n",
       "      <td>0</td>\n",
       "      <td>b'Jordan'</td>\n",
       "      <td>0</td>\n",
       "      <td>4.0</td>\n",
       "      <td>b'4-11 years'</td>\n",
       "      <td>b'?'</td>\n",
       "      <td>0</td>\n",
       "    </tr>\n",
       "    <tr>\n",
       "      <td>4</td>\n",
       "      <td>1</td>\n",
       "      <td>1</td>\n",
       "      <td>1</td>\n",
       "      <td>1</td>\n",
       "      <td>1</td>\n",
       "      <td>1</td>\n",
       "      <td>1</td>\n",
       "      <td>1</td>\n",
       "      <td>1</td>\n",
       "      <td>1</td>\n",
       "      <td>...</td>\n",
       "      <td>0</td>\n",
       "      <td>b'Others'</td>\n",
       "      <td>1</td>\n",
       "      <td>0</td>\n",
       "      <td>b'United States'</td>\n",
       "      <td>0</td>\n",
       "      <td>10.0</td>\n",
       "      <td>b'4-11 years'</td>\n",
       "      <td>b'Parent'</td>\n",
       "      <td>1</td>\n",
       "    </tr>\n",
       "  </tbody>\n",
       "</table>\n",
       "<p>5 rows × 21 columns</p>\n",
       "</div>"
      ],
      "text/plain": [
       "   A1_Score  A2_Score  A3_Score  A4_Score  A5_Score  A6_Score  A7_Score  \\\n",
       "0         1         1         0         0         1         1         0   \n",
       "1         1         1         0         0         1         1         0   \n",
       "2         1         1         0         0         0         1         1   \n",
       "3         0         1         0         0         1         1         0   \n",
       "4         1         1         1         1         1         1         1   \n",
       "\n",
       "   A8_Score  A9_Score  A10_Score  ...  gender           ethnicity jundice  \\\n",
       "0         1         0          0  ...       0           b'Others'       0   \n",
       "1         1         0          0  ...       0  b'Middle Eastern '       0   \n",
       "2         1         0          0  ...       0                b'?'       0   \n",
       "3         0         0          1  ...       1                b'?'       1   \n",
       "4         1         1          1  ...       0           b'Others'       1   \n",
       "\n",
       "   austim     contry_of_res used_app_before  result       age_desc   relation  \\\n",
       "0       0         b'Jordan'               0     5.0  b'4-11 years'  b'Parent'   \n",
       "1       0         b'Jordan'               0     5.0  b'4-11 years'  b'Parent'   \n",
       "2       0         b'Jordan'               1     5.0  b'4-11 years'       b'?'   \n",
       "3       0         b'Jordan'               0     4.0  b'4-11 years'       b'?'   \n",
       "4       0  b'United States'               0    10.0  b'4-11 years'  b'Parent'   \n",
       "\n",
       "  Class/ASD  \n",
       "0         0  \n",
       "1         0  \n",
       "2         0  \n",
       "3         0  \n",
       "4         1  \n",
       "\n",
       "[5 rows x 21 columns]"
      ]
     },
     "execution_count": 10,
     "metadata": {},
     "output_type": "execute_result"
    }
   ],
   "source": [
    "#We turn our binary variables into numerical ones \n",
    "data.loc[data['gender'] == b'm', 'gender'] = 0\n",
    "data.loc[data['gender'] == b'f', 'gender'] = 1\n",
    "\n",
    "binary=['austim', 'jundice', 'used_app_before']\n",
    "for name in binary:\n",
    "    data.loc[data[name] == b'no', name] = 0\n",
    "    data.loc[data[name] == b'yes', name] = 1\n",
    "\n",
    "data.loc[data['Class/ASD'] == b'NO', 'Class/ASD'] = 0\n",
    "data.loc[data['Class/ASD'] == b'YES', 'Class/ASD'] = 1\n",
    "    \n",
    "data.head()"
   ]
  },
  {
   "cell_type": "markdown",
   "metadata": {},
   "source": [
    "All children have between 4 and 11 years (with the unique function we can check that there is only one value), therefore it is not useful to keep the age_desc variable. We can drop it."
   ]
  },
  {
   "cell_type": "code",
   "execution_count": 11,
   "metadata": {},
   "outputs": [
    {
     "name": "stdout",
     "output_type": "stream",
     "text": [
      "[b'4-11 years' b'12-16 years' b'12-15 years' b'18 and more']\n"
     ]
    }
   ],
   "source": [
    "print(data['age_desc'].unique())\n",
    "data=data.drop('age_desc', axis=1)"
   ]
  },
  {
   "cell_type": "markdown",
   "metadata": {},
   "source": [
    "To simplify the  analysis, I drop the country of residence, the ethnicity and the relation to the person who is answering. I here assume that they have not as much influence than the other data. "
   ]
  },
  {
   "cell_type": "code",
   "execution_count": 12,
   "metadata": {},
   "outputs": [],
   "source": [
    "analyse=data.drop('ethnicity', axis=1)\n",
    "analyse=analyse.drop('contry_of_res', axis=1)\n",
    "analyse=analyse.drop('relation', axis=1)"
   ]
  },
  {
   "cell_type": "markdown",
   "metadata": {},
   "source": [
    "In order for our data set to be ready, I create different arrays: one with target variable (autistic or not, with the variable Class/ASD), and one with all the other variables."
   ]
  },
  {
   "cell_type": "code",
   "execution_count": 13,
   "metadata": {},
   "outputs": [],
   "source": [
    "# Create arrays for the features and the response variable\n",
    "y = list(analyse['Class/ASD'].values)\n",
    "X = analyse.drop('Class/ASD', axis=1).values"
   ]
  },
  {
   "cell_type": "markdown",
   "metadata": {},
   "source": [
    "## Visualizing the data\n",
    "\n",
    "### Bar plot\n",
    "\n",
    "I started by plotting the variable result (which equals to the sum of responses to the 10 questions) in function of ASD (autism=0 if the child is not on the spectrum, autism=1 if he is)."
   ]
  },
  {
   "cell_type": "code",
   "execution_count": 14,
   "metadata": {},
   "outputs": [
    {
     "data": {
      "image/png": "[encoded data removed]",
      "text/plain": [
       "<Figure size 432x288 with 1 Axes>"
      ]
     },
     "metadata": {
      "needs_background": "light"
     },
     "output_type": "display_data"
    }
   ],
   "source": [
    "data.boxplot(column='result', by=\"Class/ASD\", rot=90)\n",
    "plt.show()"
   ]
  },
  {
   "cell_type": "markdown",
   "metadata": {},
   "source": [
    "### Principal Component Analysis\n",
    "\n",
    "The problem in that visualization is that it allows us only to plot one variable in function of the target variable (autism). I therefore choose to realize a PCA, or Principal Component Analysis, which analyses the principal components in a dataset, in order to reduce dimensionality. "
   ]
  },
  {
   "cell_type": "code",
   "execution_count": 15,
   "metadata": {},
   "outputs": [],
   "source": [
    "# Creating the scaler\n",
    "scaler = StandardScaler()\n",
    "\n",
    "# We fit and transform our data relatively to that scaler\n",
    "X = scaler.fit_transform(X)\n",
    "\n",
    "#We initiate the PCA object with 3 components\n",
    "pca = PCA(n_components=3)\n",
    "\n",
    "# We fit and transform our data with that scaler\n",
    "principal_components = pca.fit_transform(X)\n",
    "\n",
    "# We create a data set with the principal components and the target variable\n",
    "final = pd.DataFrame(data = principal_components, columns = ['PC1', 'PC2', 'PC3'])\n",
    "final = final.assign(y=analyse[['Class/ASD']].values)"
   ]
  },
  {
   "cell_type": "code",
   "execution_count": 16,
   "metadata": {},
   "outputs": [
    {
     "data": {
      "image/png": "[encoded data removed]",
      "text/plain": [
       "<Figure size 576x576 with 1 Axes>"
      ]
     },
     "metadata": {
      "needs_background": "light"
     },
     "output_type": "display_data"
    }
   ],
   "source": [
    "# Plotting the data in function of the principal components \n",
    "\n",
    "fig = plt.figure(figsize = (8,8))\n",
    "ax = fig.add_subplot(1,1,1) \n",
    "ax.set_xlabel('Principal Component 1', fontsize = 15)\n",
    "ax.set_ylabel('Principal Component 2', fontsize = 15)\n",
    "ax.set_title('2 component PCA', fontsize = 20)\n",
    "targets = [0, 1]\n",
    "colors = ['r', 'g']\n",
    "for target, color in zip(targets,colors):\n",
    "    indicesToKeep = final['y'] == target\n",
    "    ax.scatter(final.loc[indicesToKeep, 'PC1'], final.loc[indicesToKeep, 'PC2'], c = color, s = 50)\n",
    "ax.legend(targets)\n",
    "ax.grid()\n",
    "\n",
    "plt.show()"
   ]
  },
  {
   "cell_type": "code",
   "execution_count": 17,
   "metadata": {},
   "outputs": [
    {
     "data": {
      "image/png": "[encoded data removed]",
      "text/plain": [
       "<Figure size 432x288 with 1 Axes>"
      ]
     },
     "metadata": {
      "needs_background": "light"
     },
     "output_type": "display_data"
    }
   ],
   "source": [
    "\n",
    "from sklearn.pipeline import make_pipeline\n",
    "import matplotlib.pyplot as plt\n",
    "\n",
    "# Create scaler: scaler\n",
    "scaler = StandardScaler()\n",
    "\n",
    "# Create a PCA instance: pca\n",
    "pca = PCA()\n",
    "\n",
    "# Create pipeline: pipeline\n",
    "pipeline = make_pipeline(scaler, pca)\n",
    "\n",
    "# Fit the pipeline to 'samples'\n",
    "pipeline.fit(analyse)\n",
    "\n",
    "# Plot the explained variances\n",
    "features = range(pca.n_components_)\n",
    "plt.bar(features, pca.explained_variance_)\n",
    "plt.xlabel('PCA feature')\n",
    "plt.ylabel('variance')\n",
    "plt.xticks(features)\n",
    "plt.show()"
   ]
  },
  {
   "cell_type": "code",
   "execution_count": 18,
   "metadata": {},
   "outputs": [
    {
     "name": "stdout",
     "output_type": "stream",
     "text": [
      "[2.72440164e-01 8.15825201e-02 7.17966796e-02 6.14500738e-02\n",
      " 5.81594429e-02 5.74332750e-02 5.39353984e-02 5.19196767e-02\n",
      " 4.82691418e-02 4.42758743e-02 4.32775232e-02 4.03442527e-02\n",
      " 3.82539032e-02 3.43911108e-02 2.81309196e-02 1.43400443e-02\n",
      " 5.37947572e-33]\n",
      "[0.27244016 0.35402268 0.42581936 0.48726944 0.54542888 0.60286216\n",
      " 0.65679755 0.70871723 0.75698637 0.80126225 0.84453977 0.88488402\n",
      " 0.92313793 0.95752904 0.98565996 1.         1.        ]\n"
     ]
    }
   ],
   "source": [
    "from sklearn.preprocessing import StandardScaler\n",
    "from sklearn.decomposition import PCA\n",
    "\n",
    "# Scale the data\n",
    "scaler = StandardScaler()\n",
    "scaled = scaler.fit_transform(analyse)\n",
    "\n",
    "# Apply PCA\n",
    "pca = PCA()\n",
    "pca.fit(scaled)\n",
    "\n",
    "print(pca.explained_variance_ratio_)\n",
    "print(pca.explained_variance_ratio_.cumsum())"
   ]
  },
  {
   "cell_type": "markdown",
   "metadata": {},
   "source": [
    "## K-Nearest Neighbors\n",
    "\n"
   ]
  },
  {
   "cell_type": "code",
   "execution_count": 19,
   "metadata": {},
   "outputs": [
    {
     "name": "stdout",
     "output_type": "stream",
     "text": [
      "0.9545454545454546\n"
     ]
    }
   ],
   "source": [
    "\n",
    "# Create a k-NN classifier with 6 neighbors\n",
    "knn = KNeighborsClassifier(n_neighbors=3)\n",
    "X_train, X_test, y_train, y_test = train_test_split(X, y, test_size = 0.3, random_state=42, stratify=y)\n",
    "# Fit the classifier to the data\n",
    "knn.fit(X_train, y_train)\n",
    "y_pred = knn.predict(X_test)\n",
    "print(knn.score(X_test, y_test))"
   ]
  },
  {
   "cell_type": "code",
   "execution_count": 20,
   "metadata": {},
   "outputs": [
    {
     "data": {
      "image/png": "[encoded data removed]",
      "text/plain": [
       "<Figure size 432x288 with 2 Axes>"
      ]
     },
     "metadata": {
      "needs_background": "light"
     },
     "output_type": "display_data"
    },
    {
     "name": "stdout",
     "output_type": "stream",
     "text": [
      "[[0.97129187 0.07438017]\n",
      " [0.02870813 0.92561983]]\n"
     ]
    }
   ],
   "source": [
    "from sklearn.metrics import confusion_matrix\n",
    "\n",
    "\n",
    "conf_matrix = confusion_matrix(y_test, y_pred)\n",
    "conf_matrix = conf_matrix/np.sum(conf_matrix, axis=0)\n",
    "plt.imshow(conf_matrix)\n",
    "plt.colorbar()\n",
    "plt.show()\n",
    "print(conf_matrix)"
   ]
  },
  {
   "cell_type": "markdown",
   "metadata": {},
   "source": [
    "## Linear Regression"
   ]
  },
  {
   "cell_type": "code",
   "execution_count": 21,
   "metadata": {},
   "outputs": [
    {
     "name": "stdout",
     "output_type": "stream",
     "text": [
      "0.678465682690061\n"
     ]
    }
   ],
   "source": [
    "from sklearn.linear_model import LinearRegression\n",
    "reg = LinearRegression()\n",
    "reg.fit(X_train, y_train)\n",
    "y_pred=reg.predict(X_test)\n",
    "print(reg.score(X_test, y_test))"
   ]
  },
  {
   "cell_type": "markdown",
   "metadata": {},
   "source": [
    "## Implementation of K-Nearest Neighbors\n",
    "\n",
    "The idea is to classify data on the basis of their euclidian distance to the other points."
   ]
  },
  {
   "cell_type": "code",
   "execution_count": 33,
   "metadata": {},
   "outputs": [],
   "source": []
  },
  {
   "cell_type": "code",
   "execution_count": 63,
   "metadata": {},
   "outputs": [],
   "source": [
    "# Defin\n",
    "def EuclidianDistance(row1, row2):\n",
    "    row1 = np.array(row1)\n",
    "    row2 = np.array(row2)\n",
    "    diff = row1 - row2\n",
    "    print(diff)\n",
    "    square = np.dot(diff, diff)\n",
    "    print(square)\n",
    "    return np.sqrt(square)\n",
    "    "
   ]
  },
  {
   "cell_type": "code",
   "execution_count": null,
   "metadata": {},
   "outputs": [],
   "source": [
    "def EuclidianDistance1(row1, row2):\n",
    "    distance = 0.0\n",
    "    for i in range(len(row1)-1):\n",
    "        distance += (row1[i] - row2[i])**2\n",
    "    return np.sqrt(distance)"
   ]
  },
  {
   "cell_type": "code",
   "execution_count": null,
   "metadata": {},
   "outputs": [],
   "source": []
  },
  {
   "cell_type": "code",
   "execution_count": null,
   "metadata": {},
   "outputs": [],
   "source": []
  }
 ],
 "metadata": {
  "kernelspec": {
   "display_name": "Python 3",
   "language": "python",
   "name": "python3"
  },
  "language_info": {
   "codemirror_mode": {
    "name": "ipython",
    "version": 3
   },
   "file_extension": ".py",
   "mimetype": "text/x-python",
   "name": "python",
   "nbconvert_exporter": "python",
   "pygments_lexer": "ipython3",
   "version": "3.7.4"
  }
 },
 "nbformat": 4,
 "nbformat_minor": 2
}
