{
 "cells": [
  {
   "cell_type": "markdown",
   "metadata": {},
   "source": [
    "# Machine learning on autism data\n",
    "\n",
    "## Importing the required modules"
   ]
  },
  {
   "cell_type": "code",
   "execution_count": 1,
   "metadata": {},
   "outputs": [
    {
     "data": {
      "text/plain": [
       "'0.22'"
      ]
     },
     "execution_count": 1,
     "metadata": {},
     "output_type": "execute_result"
    }
   ],
   "source": [
    "from scipy.io import arff\n",
    "import pandas as pd \n",
    "import numpy as np\n",
    "import matplotlib.pyplot as plt\n",
    "import sklearn\n",
    "sklearn.__version__\n",
    "#from sklearn.decomposition import PCA\n",
    "#from sklearn.preprocessing import StandardScaler"
   ]
  },
  {
   "cell_type": "markdown",
   "metadata": {},
   "source": [
    "## Loading the data\n",
    "\n",
    "The data is arff files, which contain two parts : one with metadata, and one with data. The first 10 columns are  responses to 10 different questions about their life habits. We also have data about the person : gender, ethnicity, jundice when he was young, country, age, whether one parent have a ASD-like trouble ('austim')... We also know if the child is autistic or not ('Class/ASD'). We also have a few information about the person responding the questionnaire (its relation to the child, its use of the app before etc.). \n",
    "\n",
    "We have three different data sets (child, adolescent, adult) that I want to merge into a single one in order to have more observations and therefore better predictions. "
   ]
  },
  {
   "cell_type": "code",
   "execution_count": 2,
   "metadata": {
    "collapsed": true
   },
   "outputs": [],
   "source": [
    "# I load the data from the arff file into two files (data and meta) for each data set \n",
    "data_child, meta_child =arff.loadarff('Autism-Child-Data.arff')\n",
    "data_child=pd.DataFrame(data_child)\n",
    "\n",
    "data_ado, meta_ado =arff.loadarff('Autism-Adolescent-Data.arff')\n",
    "data_ado=pd.DataFrame(data_ado)\n",
    "\n",
    "data_adult, meta_adult =arff.loadarff('Autism-Adult-Data.arff')\n",
    "data_adult=pd.DataFrame(data_adult)\n",
    "\n",
    "# I store the names of columns in different lists to check whether we have the same variables\n",
    "names_child=list(data_child.columns.values)\n",
    "names_ado=list(data_ado.columns.values)\n",
    "names_adult=list(data_adult.columns.values)\n",
    "\n",
    "# I assert that the variables are the same\n",
    "assert names_child==names_ado\n",
    "assert names_child==names_adult"
   ]
  },
  {
   "cell_type": "markdown",
   "metadata": {},
   "source": [
    "## Handling missing values\n",
    "\n",
    "I want to handle missing values by replacing it by their mean. I want to to this before merging the different data sets because I hypothesis that some variables are very different from a child to an adult. Therefore, I search for missing values and handle it before merging the datasets. "
   ]
  },
  {
   "cell_type": "code",
   "execution_count": 3,
   "metadata": {},
   "outputs": [
    {
     "name": "stdout",
     "output_type": "stream",
     "text": [
      "There are missing values in the child dataset in the age column\n",
      "There are missing values in the adult dataset in the age column\n"
     ]
    }
   ],
   "source": [
    "# I want to know where my missing values are.\n",
    "for name in names_child:\n",
    "    if data_child[name].isnull().sum()!=0:\n",
    "        print(\"There are missing values in the child dataset in the \" + name + \" column\")\n",
    "    if data_ado[name].isnull().sum()!=0:\n",
    "        print(\"There are missing values in the adolescent dataset in the \" + name + \" column\")\n",
    "    if data_adult[name].isnull().sum()!=0:\n",
    "        print(\"There are missing values in the adult dataset in the \" + name + \" column\")"
   ]
  },
  {
   "cell_type": "markdown",
   "metadata": {},
   "source": [
    "We observe that missing values are only present on age variable in child and adult datasets. I can replace them by the mean of their category (mean age of children, mean age of adults)."
   ]
  },
  {
   "cell_type": "code",
   "execution_count": 4,
   "metadata": {
    "collapsed": true
   },
   "outputs": [],
   "source": [
    "# Fill nas with the mean of the column\n",
    "age_mean_child=data_child.age.mean()\n",
    "data_child['age']=data_child['age'].fillna(age_mean_child)\n",
    "\n",
    "age_mean_ado=data_ado.age.mean()\n",
    "data_ado['age']=data_ado['age'].fillna(age_mean_ado)\n",
    "\n",
    "age_mean_adult=data_adult.age.mean()\n",
    "data_adult['age']=data_adult['age'].fillna(age_mean_adult)\n",
    "\n",
    "for name in names_child:\n",
    "    assert data_child[name].isnull().sum()==0\n",
    "    assert data_ado[name].isnull().sum()==0\n",
    "    assert data_adult[name].isnull().sum()==0"
   ]
  },
  {
   "cell_type": "markdown",
   "metadata": {},
   "source": [
    "## Merging datasets\n",
    "\n",
    "I merge the three datasets. We should have always the same number of variables (21) and a number of observations which equals the sum of all observations (292+104+704 = 1100)."
   ]
  },
  {
   "cell_type": "code",
   "execution_count": 5,
   "metadata": {},
   "outputs": [
    {
     "name": "stdout",
     "output_type": "stream",
     "text": [
      "(292, 21)\n",
      "(104, 21)\n",
      "(704, 21)\n",
      "(1100, 21)\n"
     ]
    }
   ],
   "source": [
    "data=pd.concat([data_child, data_ado, data_adult])\n",
    "print(data_child.shape)\n",
    "print(data_ado.shape)\n",
    "print(data_adult.shape)\n",
    "print(data.shape)\n",
    "\n",
    "names=list(data.columns.values)"
   ]
  },
  {
   "cell_type": "markdown",
   "metadata": {},
   "source": [
    "## Tidying data\n",
    "\n",
    "We start by turning values into numerical values."
   ]
  },
  {
   "cell_type": "code",
   "execution_count": 6,
   "metadata": {},
   "outputs": [
    {
     "name": "stdout",
     "output_type": "stream",
     "text": [
      "<class 'pandas.core.frame.DataFrame'>\n",
      "Int64Index: 1100 entries, 0 to 703\n",
      "Data columns (total 21 columns):\n",
      "A1_Score           1100 non-null int64\n",
      "A2_Score           1100 non-null int64\n",
      "A3_Score           1100 non-null int64\n",
      "A4_Score           1100 non-null int64\n",
      "A5_Score           1100 non-null int64\n",
      "A6_Score           1100 non-null int64\n",
      "A7_Score           1100 non-null int64\n",
      "A8_Score           1100 non-null int64\n",
      "A9_Score           1100 non-null int64\n",
      "A10_Score          1100 non-null int64\n",
      "age                1100 non-null float64\n",
      "gender             1100 non-null object\n",
      "ethnicity          1100 non-null object\n",
      "jundice            1100 non-null object\n",
      "austim             1100 non-null object\n",
      "contry_of_res      1100 non-null object\n",
      "used_app_before    1100 non-null object\n",
      "result             1100 non-null float64\n",
      "age_desc           1100 non-null object\n",
      "relation           1100 non-null object\n",
      "Class/ASD          1100 non-null object\n",
      "dtypes: float64(2), int64(10), object(9)\n",
      "memory usage: 189.1+ KB\n"
     ]
    }
   ],
   "source": [
    "#Turn the numeric strings in real numerical data\n",
    "numeric=names[0:11]\n",
    "for name in numeric:\n",
    "    data[name]=pd.to_numeric(data[name])\n",
    "\n",
    "data['result']=pd.to_numeric(data['result'])\n",
    "data['age']=pd.to_numeric(data['age'])\n",
    "\n",
    "data.info()"
   ]
  },
  {
   "cell_type": "markdown",
   "metadata": {},
   "source": [
    "We turn our binary variables into numerical ones. I chose to recode as it follows:\n",
    "- for gender, 0 is man and 1 is woman\n",
    "- for autism, jundice, and used_app_before,  0 is no and 1 is yes"
   ]
  },
  {
   "cell_type": "code",
   "execution_count": 7,
   "metadata": {},
   "outputs": [
    {
     "data": {
      "text/html": [
       "<div>\n",
       "<style>\n",
       "    .dataframe thead tr:only-child th {\n",
       "        text-align: right;\n",
       "    }\n",
       "\n",
       "    .dataframe thead th {\n",
       "        text-align: left;\n",
       "    }\n",
       "\n",
       "    .dataframe tbody tr th {\n",
       "        vertical-align: top;\n",
       "    }\n",
       "</style>\n",
       "<table border=\"1\" class=\"dataframe\">\n",
       "  <thead>\n",
       "    <tr style=\"text-align: right;\">\n",
       "      <th></th>\n",
       "      <th>A1_Score</th>\n",
       "      <th>A2_Score</th>\n",
       "      <th>A3_Score</th>\n",
       "      <th>A4_Score</th>\n",
       "      <th>A5_Score</th>\n",
       "      <th>A6_Score</th>\n",
       "      <th>A7_Score</th>\n",
       "      <th>A8_Score</th>\n",
       "      <th>A9_Score</th>\n",
       "      <th>A10_Score</th>\n",
       "      <th>...</th>\n",
       "      <th>gender</th>\n",
       "      <th>ethnicity</th>\n",
       "      <th>jundice</th>\n",
       "      <th>austim</th>\n",
       "      <th>contry_of_res</th>\n",
       "      <th>used_app_before</th>\n",
       "      <th>result</th>\n",
       "      <th>age_desc</th>\n",
       "      <th>relation</th>\n",
       "      <th>Class/ASD</th>\n",
       "    </tr>\n",
       "  </thead>\n",
       "  <tbody>\n",
       "    <tr>\n",
       "      <th>0</th>\n",
       "      <td>1</td>\n",
       "      <td>1</td>\n",
       "      <td>0</td>\n",
       "      <td>0</td>\n",
       "      <td>1</td>\n",
       "      <td>1</td>\n",
       "      <td>0</td>\n",
       "      <td>1</td>\n",
       "      <td>0</td>\n",
       "      <td>0</td>\n",
       "      <td>...</td>\n",
       "      <td>0</td>\n",
       "      <td>b'Others'</td>\n",
       "      <td>0</td>\n",
       "      <td>0</td>\n",
       "      <td>b'Jordan'</td>\n",
       "      <td>0</td>\n",
       "      <td>5.0</td>\n",
       "      <td>b\"'4-11 years'\"</td>\n",
       "      <td>b'Parent'</td>\n",
       "      <td>0</td>\n",
       "    </tr>\n",
       "    <tr>\n",
       "      <th>1</th>\n",
       "      <td>1</td>\n",
       "      <td>1</td>\n",
       "      <td>0</td>\n",
       "      <td>0</td>\n",
       "      <td>1</td>\n",
       "      <td>1</td>\n",
       "      <td>0</td>\n",
       "      <td>1</td>\n",
       "      <td>0</td>\n",
       "      <td>0</td>\n",
       "      <td>...</td>\n",
       "      <td>0</td>\n",
       "      <td>b\"'Middle Eastern '\"</td>\n",
       "      <td>0</td>\n",
       "      <td>0</td>\n",
       "      <td>b'Jordan'</td>\n",
       "      <td>0</td>\n",
       "      <td>5.0</td>\n",
       "      <td>b\"'4-11 years'\"</td>\n",
       "      <td>b'Parent'</td>\n",
       "      <td>0</td>\n",
       "    </tr>\n",
       "    <tr>\n",
       "      <th>2</th>\n",
       "      <td>1</td>\n",
       "      <td>1</td>\n",
       "      <td>0</td>\n",
       "      <td>0</td>\n",
       "      <td>0</td>\n",
       "      <td>1</td>\n",
       "      <td>1</td>\n",
       "      <td>1</td>\n",
       "      <td>0</td>\n",
       "      <td>0</td>\n",
       "      <td>...</td>\n",
       "      <td>0</td>\n",
       "      <td>b'?'</td>\n",
       "      <td>0</td>\n",
       "      <td>0</td>\n",
       "      <td>b'Jordan'</td>\n",
       "      <td>1</td>\n",
       "      <td>5.0</td>\n",
       "      <td>b\"'4-11 years'\"</td>\n",
       "      <td>b'?'</td>\n",
       "      <td>0</td>\n",
       "    </tr>\n",
       "    <tr>\n",
       "      <th>3</th>\n",
       "      <td>0</td>\n",
       "      <td>1</td>\n",
       "      <td>0</td>\n",
       "      <td>0</td>\n",
       "      <td>1</td>\n",
       "      <td>1</td>\n",
       "      <td>0</td>\n",
       "      <td>0</td>\n",
       "      <td>0</td>\n",
       "      <td>1</td>\n",
       "      <td>...</td>\n",
       "      <td>1</td>\n",
       "      <td>b'?'</td>\n",
       "      <td>1</td>\n",
       "      <td>0</td>\n",
       "      <td>b'Jordan'</td>\n",
       "      <td>0</td>\n",
       "      <td>4.0</td>\n",
       "      <td>b\"'4-11 years'\"</td>\n",
       "      <td>b'?'</td>\n",
       "      <td>0</td>\n",
       "    </tr>\n",
       "    <tr>\n",
       "      <th>4</th>\n",
       "      <td>1</td>\n",
       "      <td>1</td>\n",
       "      <td>1</td>\n",
       "      <td>1</td>\n",
       "      <td>1</td>\n",
       "      <td>1</td>\n",
       "      <td>1</td>\n",
       "      <td>1</td>\n",
       "      <td>1</td>\n",
       "      <td>1</td>\n",
       "      <td>...</td>\n",
       "      <td>0</td>\n",
       "      <td>b'Others'</td>\n",
       "      <td>1</td>\n",
       "      <td>0</td>\n",
       "      <td>b\"'United States'\"</td>\n",
       "      <td>0</td>\n",
       "      <td>10.0</td>\n",
       "      <td>b\"'4-11 years'\"</td>\n",
       "      <td>b'Parent'</td>\n",
       "      <td>1</td>\n",
       "    </tr>\n",
       "  </tbody>\n",
       "</table>\n",
       "<p>5 rows × 21 columns</p>\n",
       "</div>"
      ],
      "text/plain": [
       "   A1_Score  A2_Score  A3_Score  A4_Score  A5_Score  A6_Score  A7_Score  \\\n",
       "0         1         1         0         0         1         1         0   \n",
       "1         1         1         0         0         1         1         0   \n",
       "2         1         1         0         0         0         1         1   \n",
       "3         0         1         0         0         1         1         0   \n",
       "4         1         1         1         1         1         1         1   \n",
       "\n",
       "   A8_Score  A9_Score  A10_Score    ...     gender             ethnicity  \\\n",
       "0         1         0          0    ...          0             b'Others'   \n",
       "1         1         0          0    ...          0  b\"'Middle Eastern '\"   \n",
       "2         1         0          0    ...          0                  b'?'   \n",
       "3         0         0          1    ...          1                  b'?'   \n",
       "4         1         1          1    ...          0             b'Others'   \n",
       "\n",
       "  jundice austim       contry_of_res used_app_before result         age_desc  \\\n",
       "0       0      0           b'Jordan'               0    5.0  b\"'4-11 years'\"   \n",
       "1       0      0           b'Jordan'               0    5.0  b\"'4-11 years'\"   \n",
       "2       0      0           b'Jordan'               1    5.0  b\"'4-11 years'\"   \n",
       "3       1      0           b'Jordan'               0    4.0  b\"'4-11 years'\"   \n",
       "4       1      0  b\"'United States'\"               0   10.0  b\"'4-11 years'\"   \n",
       "\n",
       "    relation Class/ASD  \n",
       "0  b'Parent'         0  \n",
       "1  b'Parent'         0  \n",
       "2       b'?'         0  \n",
       "3       b'?'         0  \n",
       "4  b'Parent'         1  \n",
       "\n",
       "[5 rows x 21 columns]"
      ]
     },
     "execution_count": 7,
     "metadata": {},
     "output_type": "execute_result"
    }
   ],
   "source": [
    "#We turn our binary variables into numerical ones \n",
    "data.loc[data['gender'] == b'm', 'gender'] = 0\n",
    "data.loc[data['gender'] == b'f', 'gender'] = 1\n",
    "\n",
    "binary=['austim', 'jundice', 'used_app_before']\n",
    "for name in binary:\n",
    "    data.loc[data[name] == b'no', name] = 0\n",
    "    data.loc[data[name] == b'yes', name] = 1\n",
    "\n",
    "data.loc[data['Class/ASD'] == b'NO', 'Class/ASD'] = 0\n",
    "data.loc[data['Class/ASD'] == b'YES', 'Class/ASD'] = 1\n",
    "    \n",
    "data.head()"
   ]
  },
  {
   "cell_type": "markdown",
   "metadata": {},
   "source": [
    "All children have between 4 and 11 years (with the unique function we can check that there is only one value), therefore it is not useful to keep the age_desc variable. We can drop it."
   ]
  },
  {
   "cell_type": "code",
   "execution_count": 8,
   "metadata": {},
   "outputs": [
    {
     "name": "stdout",
     "output_type": "stream",
     "text": [
      "[b\"'4-11 years'\" b\"'12-16 years'\" b\"'12-15 years'\" b\"'18 and more'\"]\n"
     ]
    }
   ],
   "source": [
    "print(data['age_desc'].unique())\n",
    "data=data.drop('age_desc', axis=1)"
   ]
  },
  {
   "cell_type": "markdown",
   "metadata": {},
   "source": [
    "## Visualizing the data"
   ]
  },
  {
   "cell_type": "code",
   "execution_count": 9,
   "metadata": {},
   "outputs": [
    {
     "data": {
      "image/png": "[encoded data removed]",
      "text/plain": [
       "<matplotlib.figure.Figure at 0x11be2ac18>"
      ]
     },
     "metadata": {},
     "output_type": "display_data"
    },
    {
     "data": {
      "image/png": "[encoded data removed]",
      "text/plain": [
       "<matplotlib.figure.Figure at 0x11f39d7f0>"
      ]
     },
     "metadata": {},
     "output_type": "display_data"
    },
    {
     "data": {
      "image/png": "[encoded data removed]",
      "text/plain": [
       "<matplotlib.figure.Figure at 0x11f3310f0>"
      ]
     },
     "metadata": {},
     "output_type": "display_data"
    },
    {
     "data": {
      "image/png": "[encoded data removed]",
      "text/plain": [
       "<matplotlib.figure.Figure at 0x11f7f4be0>"
      ]
     },
     "metadata": {},
     "output_type": "display_data"
    },
    {
     "data": {
      "image/png": "[encoded data removed]",
      "text/plain": [
       "<matplotlib.figure.Figure at 0x11f7fb898>"
      ]
     },
     "metadata": {},
     "output_type": "display_data"
    },
    {
     "data": {
      "image/png": "[encoded data removed]",
      "text/plain": [
       "<matplotlib.figure.Figure at 0x11f731978>"
      ]
     },
     "metadata": {},
     "output_type": "display_data"
    },
    {
     "data": {
      "image/png": "[encoded data removed]",
      "text/plain": [
       "<matplotlib.figure.Figure at 0x11f1caf98>"
      ]
     },
     "metadata": {},
     "output_type": "display_data"
    },
    {
     "data": {
      "image/png": "[encoded data removed]",
      "text/plain": [
       "<matplotlib.figure.Figure at 0x11f95bf60>"
      ]
     },
     "metadata": {},
     "output_type": "display_data"
    },
    {
     "data": {
      "image/png": "[encoded data removed]",
      "text/plain": [
       "<matplotlib.figure.Figure at 0x11fc5e6a0>"
      ]
     },
     "metadata": {},
     "output_type": "display_data"
    },
    {
     "data": {
      "image/png": "[encoded data removed]",
      "text/plain": [
       "<matplotlib.figure.Figure at 0x11f3fb128>"
      ]
     },
     "metadata": {},
     "output_type": "display_data"
    },
    {
     "data": {
      "image/png": "[encoded data removed]",
      "text/plain": [
       "<matplotlib.figure.Figure at 0x11fc5e2b0>"
      ]
     },
     "metadata": {},
     "output_type": "display_data"
    }
   ],
   "source": [
    "number=1\n",
    "for name in numeric:\n",
    "    data.hist(column=name, by='Class/ASD')\n",
    "    plt.show()\n",
    "    "
   ]
  },
  {
   "cell_type": "code",
   "execution_count": 10,
   "metadata": {},
   "outputs": [
    {
     "data": {
      "image/png": "[encoded data removed]",
      "text/plain": [
       "<matplotlib.figure.Figure at 0x11f4a2eb8>"
      ]
     },
     "metadata": {},
     "output_type": "display_data"
    }
   ],
   "source": [
    "data.hist(column='result', by='Class/ASD', bins=10)\n",
    "plt.show()"
   ]
  },
  {
   "cell_type": "code",
   "execution_count": 11,
   "metadata": {},
   "outputs": [
    {
     "data": {
      "image/png": "[encoded data removed]",
      "text/plain": [
       "<matplotlib.figure.Figure at 0x11f73a208>"
      ]
     },
     "metadata": {},
     "output_type": "display_data"
    }
   ],
   "source": [
    "fig, ax = plt.subplots()\n",
    "ax.hist(data['Class/ASD'])\n",
    "plt.show()"
   ]
  },
  {
   "cell_type": "code",
   "execution_count": 12,
   "metadata": {},
   "outputs": [
    {
     "data": {
      "image/png": "[encoded data removed]",
      "text/plain": [
       "<matplotlib.figure.Figure at 0x11f5fbc88>"
      ]
     },
     "metadata": {},
     "output_type": "display_data"
    }
   ],
   "source": [
    "data.boxplot(column='result', by=\"Class/ASD\", rot=90)\n",
    "plt.show()"
   ]
  },
  {
   "cell_type": "markdown",
   "metadata": {},
   "source": [
    "## K-Nearest Neighbors\n",
    "\n",
    "To simplify the first analysis, I drop the country of residence, the ethnicity and the relation to the person who is answering. "
   ]
  },
  {
   "cell_type": "code",
   "execution_count": 13,
   "metadata": {
    "collapsed": true
   },
   "outputs": [],
   "source": [
    "analyse=data.drop('ethnicity', axis=1)\n",
    "analyse=analyse.drop('contry_of_res', axis=1)\n",
    "analyse=analyse.drop('relation', axis=1)"
   ]
  },
  {
   "cell_type": "code",
   "execution_count": 14,
   "metadata": {},
   "outputs": [
    {
     "name": "stdout",
     "output_type": "stream",
     "text": [
      "0.969696969697\n"
     ]
    }
   ],
   "source": [
    "from sklearn.neighbors import KNeighborsClassifier\n",
    "from sklearn.model_selection import train_test_split\n",
    "\n",
    "# Create arrays for the features and the response variable\n",
    "y = list(analyse['Class/ASD'].values)\n",
    "X = analyse.drop('Class/ASD', axis=1).values\n",
    "\n",
    "# Create a k-NN classifier with 6 neighbors\n",
    "knn = KNeighborsClassifier(n_neighbors=3)\n",
    "X_train, X_test, y_train, y_test = train_test_split(X, y, test_size = 0.3, random_state=42, stratify=y)\n",
    "# Fit the classifier to the data\n",
    "knn.fit(X_train, y_train)\n",
    "y_pred = knn.predict(X_test)\n",
    "print(knn.score(X_test, y_test))"
   ]
  },
  {
   "cell_type": "code",
   "execution_count": 17,
   "metadata": {},
   "outputs": [
    {
     "ename": "ImportError",
     "evalue": "cannot import name 'plot_confusion_matrix'",
     "output_type": "error",
     "traceback": [
      "\u001b[0;31m---------------------------------------------------------------------------\u001b[0m",
      "\u001b[0;31mImportError\u001b[0m                               Traceback (most recent call last)",
      "\u001b[0;32m<ipython-input-17-7ce0d8edfb04>\u001b[0m in \u001b[0;36m<module>\u001b[0;34m()\u001b[0m\n\u001b[1;32m      1\u001b[0m \u001b[0;32mfrom\u001b[0m \u001b[0msklearn\u001b[0m\u001b[0;34m.\u001b[0m\u001b[0mmetrics\u001b[0m \u001b[0;32mimport\u001b[0m \u001b[0mconfusion_matrix\u001b[0m\u001b[0;34m\u001b[0m\u001b[0m\n\u001b[0;32m----> 2\u001b[0;31m \u001b[0;32mfrom\u001b[0m \u001b[0msklearn\u001b[0m\u001b[0;34m.\u001b[0m\u001b[0mmetrics\u001b[0m \u001b[0;32mimport\u001b[0m \u001b[0mplot_confusion_matrix\u001b[0m\u001b[0;34m\u001b[0m\u001b[0m\n\u001b[0m\u001b[1;32m      3\u001b[0m \u001b[0;34m\u001b[0m\u001b[0m\n\u001b[1;32m      4\u001b[0m \u001b[0mconf_matrix\u001b[0m \u001b[0;34m=\u001b[0m \u001b[0mconfusion_matrix\u001b[0m\u001b[0;34m(\u001b[0m\u001b[0my_test\u001b[0m\u001b[0;34m,\u001b[0m \u001b[0my_pred\u001b[0m\u001b[0;34m)\u001b[0m\u001b[0;34m\u001b[0m\u001b[0m\n\u001b[1;32m      5\u001b[0m \u001b[0mprint\u001b[0m\u001b[0;34m(\u001b[0m\u001b[0mtype\u001b[0m\u001b[0;34m(\u001b[0m\u001b[0mconf_matrix\u001b[0m\u001b[0;34m)\u001b[0m\u001b[0;34m)\u001b[0m\u001b[0;34m\u001b[0m\u001b[0m\n",
      "\u001b[0;31mImportError\u001b[0m: cannot import name 'plot_confusion_matrix'"
     ]
    }
   ],
   "source": [
    "from sklearn.metrics import confusion_matrix\n",
    "\n",
    "\n",
    "conf_matrix = confusion_matrix(y_test, y_pred)\n",
    "print(type(conf_matrix))\n",
    "print(conf_matrix)\n",
    "#plt.imshow(conf_matrix)\n",
    "#plt.colorbar()\n",
    "#plt.show()"
   ]
  },
  {
   "cell_type": "markdown",
   "metadata": {},
   "source": [
    "## Linear Regression"
   ]
  },
  {
   "cell_type": "code",
   "execution_count": null,
   "metadata": {
    "collapsed": true
   },
   "outputs": [],
   "source": [
    "from sklearn.linear_model import LinearRegression\n",
    "reg = LinearRegression()\n",
    "reg.fit(X_train, y_train)\n",
    "y_pred=reg.predict(X_test)\n",
    "print(reg.score(X_test, y_test))"
   ]
  },
  {
   "cell_type": "markdown",
   "metadata": {},
   "source": [
    "## PCA"
   ]
  },
  {
   "cell_type": "code",
   "execution_count": null,
   "metadata": {
    "collapsed": true
   },
   "outputs": [],
   "source": [
    "scaler = StandardScaler()\n",
    "X = scaler.fit_transform(X)\n",
    "pca = PCA(n_components=3)\n",
    "principal_components = pca.fit_transform(X)\n",
    "final = pd.DataFrame(data = principal_components, columns = ['PC1', 'PC2', 'PC3'])\n",
    "final = final.assign(y=analyse[['Class/ASD']].values)"
   ]
  },
  {
   "cell_type": "code",
   "execution_count": null,
   "metadata": {
    "collapsed": true
   },
   "outputs": [],
   "source": [
    "fig = plt.figure(figsize = (8,8))\n",
    "ax = fig.add_subplot(1,1,1) \n",
    "ax.set_xlabel('Principal Component 1', fontsize = 15)\n",
    "ax.set_ylabel('Principal Component 2', fontsize = 15)\n",
    "ax.set_title('2 component PCA', fontsize = 20)\n",
    "targets = [0, 1]\n",
    "colors = ['r', 'g']\n",
    "for target, color in zip(targets,colors):\n",
    "    indicesToKeep = final['y'] == target\n",
    "    ax.scatter(final.loc[indicesToKeep, 'PC1'], final.loc[indicesToKeep, 'PC2'], c = color, s = 50)\n",
    "ax.legend(targets)\n",
    "ax.grid()\n",
    "\n",
    "plt.show()"
   ]
  },
  {
   "cell_type": "code",
   "execution_count": null,
   "metadata": {
    "collapsed": true
   },
   "outputs": [],
   "source": [
    "from sklearn.decomposition import PCA\n",
    "from sklearn.preprocessing import StandardScaler\n",
    "from sklearn.pipeline import make_pipeline\n",
    "import matplotlib.pyplot as plt\n",
    "\n",
    "# Create scaler: scaler\n",
    "scaler = StandardScaler()\n",
    "\n",
    "# Create a PCA instance: pca\n",
    "pca = PCA()\n",
    "\n",
    "# Create pipeline: pipeline\n",
    "pipeline = make_pipeline(scaler, pca)\n",
    "\n",
    "# Fit the pipeline to 'samples'\n",
    "pipeline.fit(analyse)\n",
    "\n",
    "# Plot the explained variances\n",
    "features = range(pca.n_components_)\n",
    "plt.bar(features, pca.explained_variance_)\n",
    "plt.xlabel('PCA feature')\n",
    "plt.ylabel('variance')\n",
    "plt.xticks(features)\n",
    "plt.show()\n"
   ]
  },
  {
   "cell_type": "code",
   "execution_count": null,
   "metadata": {
    "collapsed": true
   },
   "outputs": [],
   "source": [
    "from sklearn.preprocessing import StandardScaler\n",
    "from sklearn.decomposition import PCA\n",
    "\n",
    "# Scale the data\n",
    "scaler = StandardScaler()\n",
    "scaled = scaler.fit_transform(analyse)\n",
    "\n",
    "# Apply PCA\n",
    "pca = PCA()\n",
    "pca.fit(scaled)\n",
    "\n",
    "print(pca.explained_variance_ratio_)\n",
    "print(pca.explained_variance_ratio_.cumsum())"
   ]
  },
  {
   "cell_type": "code",
   "execution_count": null,
   "metadata": {
    "collapsed": true
   },
   "outputs": [],
   "source": []
  },
  {
   "cell_type": "code",
   "execution_count": null,
   "metadata": {
    "collapsed": true
   },
   "outputs": [],
   "source": []
  },
  {
   "cell_type": "code",
   "execution_count": null,
   "metadata": {
    "collapsed": true
   },
   "outputs": [],
   "source": []
  }
 ],
 "metadata": {
  "kernelspec": {
   "display_name": "Python 3",
   "language": "python",
   "name": "python3"
  },
  "language_info": {
   "codemirror_mode": {
    "name": "ipython",
    "version": 3
   },
   "file_extension": ".py",
   "mimetype": "text/x-python",
   "name": "python",
   "nbconvert_exporter": "python",
   "pygments_lexer": "ipython3",
   "version": "3.6.1"
  }
 },
 "nbformat": 4,
 "nbformat_minor": 2
}
