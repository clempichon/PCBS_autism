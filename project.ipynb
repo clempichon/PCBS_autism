{
 "cells": [
  {
   "cell_type": "markdown",
   "metadata": {},
   "source": [
    "# Machine learning on autism data\n",
    "\n",
    "## Importing the required modules"
   ]
  },
  {
   "cell_type": "code",
   "execution_count": 239,
   "metadata": {
    "collapsed": true
   },
   "outputs": [],
   "source": [
    "from scipy.io import arff\n",
    "import pandas as pd \n",
    "import numpy as np\n",
    "import matplotlib.pyplot as plt"
   ]
  },
  {
   "cell_type": "markdown",
   "metadata": {},
   "source": [
    "## Loading the data\n",
    "\n",
    "The data is arff files, which contain two parts : one with metadata, and one with data. The first 10 columns are  responses to 10 different questions about their life habits. We also have data about the person : gender, ethnicity, jundice when he was young, country, age, whether one parent have a ASD-like trouble ('austim')... We also know if the child is autistic or not ('Class/ASD'). We also have a few information about the person responding the questionnaire (its relation to the child, its use of the app before etc.). \n",
    "\n",
    "We have three different data sets (child, adolescent, adult) that I want to merge into a single one in order to have more observations and therefore better predictions. "
   ]
  },
  {
   "cell_type": "code",
   "execution_count": 240,
   "metadata": {},
   "outputs": [],
   "source": [
    "# I load the data from the arff file into two files (data and meta) for each data set \n",
    "data_child, meta_child =arff.loadarff('Autism-Child-Data.arff')\n",
    "data_child=pd.DataFrame(data_child)\n",
    "\n",
    "data_ado, meta_ado =arff.loadarff('Autism-Adolescent-Data.arff')\n",
    "data_ado=pd.DataFrame(data_ado)\n",
    "\n",
    "data_adult, meta_adult =arff.loadarff('Autism-Adult-Data.arff')\n",
    "data_adult=pd.DataFrame(data_adult)\n",
    "\n",
    "# I store the names of columns in different lists to check whether we have the same variables\n",
    "names_child=list(data_child.columns.values)\n",
    "names_ado=list(data_ado.columns.values)\n",
    "names_adult=list(data_adult.columns.values)\n",
    "\n",
    "# I assert that the variables are the same\n",
    "assert names_child==names_ado\n",
    "assert names_child==names_adult"
   ]
  },
  {
   "cell_type": "markdown",
   "metadata": {},
   "source": [
    "## Handling missing values\n",
    "\n",
    "I want to handle missing values by replacing it by their mean. I want to to this before merging the different data sets because I hypothesis that some variables are very different from a child to an adult. Therefore, I search for missing values and handle it before merging the datasets. "
   ]
  },
  {
   "cell_type": "code",
   "execution_count": 244,
   "metadata": {},
   "outputs": [
    {
     "name": "stdout",
     "output_type": "stream",
     "text": [
      "There are missing values in the child dataset in the age column\n",
      "There are missing values in the adult dataset in the age column\n"
     ]
    }
   ],
   "source": [
    "# I want to know where my missing values are.\n",
    "for name in names_child:\n",
    "    if data_child[name].isnull().sum()!=0:\n",
    "        print(\"There are missing values in the child dataset in the \" + name + \" column\")\n",
    "    if data_ado[name].isnull().sum()!=0:\n",
    "        print(\"There are missing values in the adolescent dataset in the \" + name + \" column\")\n",
    "    if data_adult[name].isnull().sum()!=0:\n",
    "        print(\"There are missing values in the adult dataset in the \" + name + \" column\")"
   ]
  },
  {
   "cell_type": "markdown",
   "metadata": {},
   "source": [
    "We observe that missing values are only present on age variable in child and adult datasets. I can replace them by the mean of their category (mean age of children, mean age of adults)."
   ]
  },
  {
   "cell_type": "code",
   "execution_count": 215,
   "metadata": {},
   "outputs": [],
   "source": [
    "# Fill nas with the mean of the column\n",
    "age_mean_child=data_child.age.mean()\n",
    "data_child['age']=data_child['age'].fillna(age_mean_child)\n",
    "\n",
    "age_mean_ado=data_ado.age.mean()\n",
    "data_ado['age']=data_ado['age'].fillna(age_mean_ado)\n",
    "\n",
    "age_mean_adult=data_adult.age.mean()\n",
    "data_adult['age']=data_adult['age'].fillna(age_mean_adult)\n",
    "\n",
    "for name in names_child:\n",
    "    assert data_child[name].isnull().sum()==0\n",
    "    assert data_ado[name].isnull().sum()==0\n",
    "    assert data_adult[name].isnull().sum()==0"
   ]
  },
  {
   "cell_type": "markdown",
   "metadata": {},
   "source": [
    "## Merging datasets\n",
    "\n",
    "I merge the three datasets. We should have always the same number of variables (21) and a number of observations which equals the sum of all observations (292+104+704 = 1100)."
   ]
  },
  {
   "cell_type": "code",
   "execution_count": 216,
   "metadata": {},
   "outputs": [
    {
     "name": "stdout",
     "output_type": "stream",
     "text": [
      "(292, 21)\n",
      "(104, 21)\n",
      "(704, 21)\n",
      "(1100, 21)\n"
     ]
    }
   ],
   "source": [
    "data=pd.concat([data_child, data_ado, data_adult])\n",
    "print(data_child.shape)\n",
    "print(data_ado.shape)\n",
    "print(data_adult.shape)\n",
    "print(data.shape)"
   ]
  },
  {
   "cell_type": "markdown",
   "metadata": {},
   "source": [
    "## Tidying data\n",
    "\n",
    "We start by turning values into numerical values."
   ]
  },
  {
   "cell_type": "code",
   "execution_count": 217,
   "metadata": {},
   "outputs": [
    {
     "name": "stdout",
     "output_type": "stream",
     "text": [
      "<class 'pandas.core.frame.DataFrame'>\n",
      "Int64Index: 1100 entries, 0 to 703\n",
      "Data columns (total 21 columns):\n",
      "A1_Score           1100 non-null int64\n",
      "A2_Score           1100 non-null int64\n",
      "A3_Score           1100 non-null int64\n",
      "A4_Score           1100 non-null int64\n",
      "A5_Score           1100 non-null int64\n",
      "A6_Score           1100 non-null int64\n",
      "A7_Score           1100 non-null int64\n",
      "A8_Score           1100 non-null int64\n",
      "A9_Score           1100 non-null int64\n",
      "A10_Score          1100 non-null int64\n",
      "age                1100 non-null float64\n",
      "gender             1100 non-null object\n",
      "ethnicity          1100 non-null object\n",
      "jundice            1100 non-null object\n",
      "austim             1100 non-null object\n",
      "contry_of_res      1100 non-null object\n",
      "used_app_before    1100 non-null object\n",
      "result             1100 non-null float64\n",
      "age_desc           1100 non-null object\n",
      "relation           1100 non-null object\n",
      "Class/ASD          1100 non-null object\n",
      "dtypes: float64(2), int64(10), object(9)\n",
      "memory usage: 189.1+ KB\n"
     ]
    }
   ],
   "source": [
    "#Turn the numeric strings in real numerical data\n",
    "numeric=names[0:11]\n",
    "for name in numeric:\n",
    "    data[name]=pd.to_numeric(data[name])\n",
    "\n",
    "data['result']=pd.to_numeric(data['result'])\n",
    "data['age']=pd.to_numeric(data['age'])\n",
    "\n",
    "data.info()"
   ]
  },
  {
   "cell_type": "markdown",
   "metadata": {},
   "source": [
    "We turn our binary variables into numerical ones. I chose to recode as it follows:\n",
    "- for gender, 0 is man and 1 is woman\n",
    "- for autism, jundice, and used_app_before,  0 is no and 1 is yes"
   ]
  },
  {
   "cell_type": "code",
   "execution_count": 218,
   "metadata": {},
   "outputs": [
    {
     "data": {
      "text/html": [
       "<div>\n",
       "<style>\n",
       "    .dataframe thead tr:only-child th {\n",
       "        text-align: right;\n",
       "    }\n",
       "\n",
       "    .dataframe thead th {\n",
       "        text-align: left;\n",
       "    }\n",
       "\n",
       "    .dataframe tbody tr th {\n",
       "        vertical-align: top;\n",
       "    }\n",
       "</style>\n",
       "<table border=\"1\" class=\"dataframe\">\n",
       "  <thead>\n",
       "    <tr style=\"text-align: right;\">\n",
       "      <th></th>\n",
       "      <th>A1_Score</th>\n",
       "      <th>A2_Score</th>\n",
       "      <th>A3_Score</th>\n",
       "      <th>A4_Score</th>\n",
       "      <th>A5_Score</th>\n",
       "      <th>A6_Score</th>\n",
       "      <th>A7_Score</th>\n",
       "      <th>A8_Score</th>\n",
       "      <th>A9_Score</th>\n",
       "      <th>A10_Score</th>\n",
       "      <th>...</th>\n",
       "      <th>gender</th>\n",
       "      <th>ethnicity</th>\n",
       "      <th>jundice</th>\n",
       "      <th>austim</th>\n",
       "      <th>contry_of_res</th>\n",
       "      <th>used_app_before</th>\n",
       "      <th>result</th>\n",
       "      <th>age_desc</th>\n",
       "      <th>relation</th>\n",
       "      <th>Class/ASD</th>\n",
       "    </tr>\n",
       "  </thead>\n",
       "  <tbody>\n",
       "    <tr>\n",
       "      <th>0</th>\n",
       "      <td>1</td>\n",
       "      <td>1</td>\n",
       "      <td>0</td>\n",
       "      <td>0</td>\n",
       "      <td>1</td>\n",
       "      <td>1</td>\n",
       "      <td>0</td>\n",
       "      <td>1</td>\n",
       "      <td>0</td>\n",
       "      <td>0</td>\n",
       "      <td>...</td>\n",
       "      <td>0</td>\n",
       "      <td>b'Others'</td>\n",
       "      <td>0</td>\n",
       "      <td>0</td>\n",
       "      <td>b'Jordan'</td>\n",
       "      <td>0</td>\n",
       "      <td>5.0</td>\n",
       "      <td>b\"'4-11 years'\"</td>\n",
       "      <td>b'Parent'</td>\n",
       "      <td>0</td>\n",
       "    </tr>\n",
       "    <tr>\n",
       "      <th>1</th>\n",
       "      <td>1</td>\n",
       "      <td>1</td>\n",
       "      <td>0</td>\n",
       "      <td>0</td>\n",
       "      <td>1</td>\n",
       "      <td>1</td>\n",
       "      <td>0</td>\n",
       "      <td>1</td>\n",
       "      <td>0</td>\n",
       "      <td>0</td>\n",
       "      <td>...</td>\n",
       "      <td>0</td>\n",
       "      <td>b\"'Middle Eastern '\"</td>\n",
       "      <td>0</td>\n",
       "      <td>0</td>\n",
       "      <td>b'Jordan'</td>\n",
       "      <td>0</td>\n",
       "      <td>5.0</td>\n",
       "      <td>b\"'4-11 years'\"</td>\n",
       "      <td>b'Parent'</td>\n",
       "      <td>0</td>\n",
       "    </tr>\n",
       "    <tr>\n",
       "      <th>2</th>\n",
       "      <td>1</td>\n",
       "      <td>1</td>\n",
       "      <td>0</td>\n",
       "      <td>0</td>\n",
       "      <td>0</td>\n",
       "      <td>1</td>\n",
       "      <td>1</td>\n",
       "      <td>1</td>\n",
       "      <td>0</td>\n",
       "      <td>0</td>\n",
       "      <td>...</td>\n",
       "      <td>0</td>\n",
       "      <td>b'?'</td>\n",
       "      <td>0</td>\n",
       "      <td>0</td>\n",
       "      <td>b'Jordan'</td>\n",
       "      <td>1</td>\n",
       "      <td>5.0</td>\n",
       "      <td>b\"'4-11 years'\"</td>\n",
       "      <td>b'?'</td>\n",
       "      <td>0</td>\n",
       "    </tr>\n",
       "    <tr>\n",
       "      <th>3</th>\n",
       "      <td>0</td>\n",
       "      <td>1</td>\n",
       "      <td>0</td>\n",
       "      <td>0</td>\n",
       "      <td>1</td>\n",
       "      <td>1</td>\n",
       "      <td>0</td>\n",
       "      <td>0</td>\n",
       "      <td>0</td>\n",
       "      <td>1</td>\n",
       "      <td>...</td>\n",
       "      <td>1</td>\n",
       "      <td>b'?'</td>\n",
       "      <td>1</td>\n",
       "      <td>0</td>\n",
       "      <td>b'Jordan'</td>\n",
       "      <td>0</td>\n",
       "      <td>4.0</td>\n",
       "      <td>b\"'4-11 years'\"</td>\n",
       "      <td>b'?'</td>\n",
       "      <td>0</td>\n",
       "    </tr>\n",
       "    <tr>\n",
       "      <th>4</th>\n",
       "      <td>1</td>\n",
       "      <td>1</td>\n",
       "      <td>1</td>\n",
       "      <td>1</td>\n",
       "      <td>1</td>\n",
       "      <td>1</td>\n",
       "      <td>1</td>\n",
       "      <td>1</td>\n",
       "      <td>1</td>\n",
       "      <td>1</td>\n",
       "      <td>...</td>\n",
       "      <td>0</td>\n",
       "      <td>b'Others'</td>\n",
       "      <td>1</td>\n",
       "      <td>0</td>\n",
       "      <td>b\"'United States'\"</td>\n",
       "      <td>0</td>\n",
       "      <td>10.0</td>\n",
       "      <td>b\"'4-11 years'\"</td>\n",
       "      <td>b'Parent'</td>\n",
       "      <td>1</td>\n",
       "    </tr>\n",
       "  </tbody>\n",
       "</table>\n",
       "<p>5 rows × 21 columns</p>\n",
       "</div>"
      ],
      "text/plain": [
       "   A1_Score  A2_Score  A3_Score  A4_Score  A5_Score  A6_Score  A7_Score  \\\n",
       "0         1         1         0         0         1         1         0   \n",
       "1         1         1         0         0         1         1         0   \n",
       "2         1         1         0         0         0         1         1   \n",
       "3         0         1         0         0         1         1         0   \n",
       "4         1         1         1         1         1         1         1   \n",
       "\n",
       "   A8_Score  A9_Score  A10_Score    ...     gender             ethnicity  \\\n",
       "0         1         0          0    ...          0             b'Others'   \n",
       "1         1         0          0    ...          0  b\"'Middle Eastern '\"   \n",
       "2         1         0          0    ...          0                  b'?'   \n",
       "3         0         0          1    ...          1                  b'?'   \n",
       "4         1         1          1    ...          0             b'Others'   \n",
       "\n",
       "  jundice austim       contry_of_res used_app_before result         age_desc  \\\n",
       "0       0      0           b'Jordan'               0    5.0  b\"'4-11 years'\"   \n",
       "1       0      0           b'Jordan'               0    5.0  b\"'4-11 years'\"   \n",
       "2       0      0           b'Jordan'               1    5.0  b\"'4-11 years'\"   \n",
       "3       1      0           b'Jordan'               0    4.0  b\"'4-11 years'\"   \n",
       "4       1      0  b\"'United States'\"               0   10.0  b\"'4-11 years'\"   \n",
       "\n",
       "    relation Class/ASD  \n",
       "0  b'Parent'         0  \n",
       "1  b'Parent'         0  \n",
       "2       b'?'         0  \n",
       "3       b'?'         0  \n",
       "4  b'Parent'         1  \n",
       "\n",
       "[5 rows x 21 columns]"
      ]
     },
     "execution_count": 218,
     "metadata": {},
     "output_type": "execute_result"
    }
   ],
   "source": [
    "#We turn our binary variables into numerical ones \n",
    "data.loc[data['gender'] == b'm', 'gender'] = 0\n",
    "data.loc[data['gender'] == b'f', 'gender'] = 1\n",
    "\n",
    "binary=['austim', 'jundice', 'used_app_before']\n",
    "for name in binary:\n",
    "    data.loc[data[name] == b'no', name] = 0\n",
    "    data.loc[data[name] == b'yes', name] = 1\n",
    "\n",
    "data.loc[data['Class/ASD'] == b'NO', 'Class/ASD'] = 0\n",
    "data.loc[data['Class/ASD'] == b'YES', 'Class/ASD'] = 1\n",
    "    \n",
    "data.head()"
   ]
  },
  {
   "cell_type": "markdown",
   "metadata": {},
   "source": [
    "All children have between 4 and 11 years (with the unique function we can check that there is only one value), therefore it is not useful to keep the age_desc variable. We can drop it."
   ]
  },
  {
   "cell_type": "code",
   "execution_count": 219,
   "metadata": {},
   "outputs": [
    {
     "name": "stdout",
     "output_type": "stream",
     "text": [
      "[b\"'4-11 years'\" b\"'12-16 years'\" b\"'12-15 years'\" b\"'18 and more'\"]\n"
     ]
    }
   ],
   "source": [
    "print(data['age_desc'].unique())\n",
    "data=data.drop('age_desc', axis=1)"
   ]
  },
  {
   "cell_type": "markdown",
   "metadata": {},
   "source": [
    "## Visualizing the data"
   ]
  },
  {
   "cell_type": "code",
   "execution_count": 220,
   "metadata": {},
   "outputs": [
    {
     "data": {
      "image/png": "[encoded data removed]",
      "text/plain": [
       "<matplotlib.figure.Figure at 0x112c87320>"
      ]
     },
     "metadata": {},
     "output_type": "display_data"
    },
    {
     "data": {
      "image/png": "[encoded data removed]",
      "text/plain": [
       "<matplotlib.figure.Figure at 0x1136244e0>"
      ]
     },
     "metadata": {},
     "output_type": "display_data"
    },
    {
     "data": {
      "image/png": "[encoded data removed]",
      "text/plain": [
       "<matplotlib.figure.Figure at 0x1126e89e8>"
      ]
     },
     "metadata": {},
     "output_type": "display_data"
    },
    {
     "data": {
      "image/png": "[encoded data removed]",
      "text/plain": [
       "<matplotlib.figure.Figure at 0x113148cf8>"
      ]
     },
     "metadata": {},
     "output_type": "display_data"
    },
    {
     "data": {
      "image/png": "[encoded data removed]",
      "text/plain": [
       "<matplotlib.figure.Figure at 0x11363c208>"
      ]
     },
     "metadata": {},
     "output_type": "display_data"
    },
    {
     "data": {
      "image/png": "[encoded data removed]",
      "text/plain": [
       "<matplotlib.figure.Figure at 0x1128548d0>"
      ]
     },
     "metadata": {},
     "output_type": "display_data"
    },
    {
     "data": {
      "image/png": "[encoded data removed]",
      "text/plain": [
       "<matplotlib.figure.Figure at 0x1123faef0>"
      ]
     },
     "metadata": {},
     "output_type": "display_data"
    },
    {
     "data": {
      "image/png": "[encoded data removed]",
      "text/plain": [
       "<matplotlib.figure.Figure at 0x112f87048>"
      ]
     },
     "metadata": {},
     "output_type": "display_data"
    },
    {
     "data": {
      "image/png": "[encoded data removed]",
      "text/plain": [
       "<matplotlib.figure.Figure at 0x1133bacc0>"
      ]
     },
     "metadata": {},
     "output_type": "display_data"
    },
    {
     "data": {
      "image/png": "[encoded data removed]",
      "text/plain": [
       "<matplotlib.figure.Figure at 0x112621f28>"
      ]
     },
     "metadata": {},
     "output_type": "display_data"
    },
    {
     "data": {
      "image/png": "[encoded data removed]",
      "text/plain": [
       "<matplotlib.figure.Figure at 0x113346d68>"
      ]
     },
     "metadata": {},
     "output_type": "display_data"
    }
   ],
   "source": [
    "number=1\n",
    "for name in numeric:\n",
    "    data.hist(column=name, by='Class/ASD')\n",
    "    plt.show()\n",
    "    "
   ]
  },
  {
   "cell_type": "code",
   "execution_count": 232,
   "metadata": {},
   "outputs": [
    {
     "data": {
      "image/png": "[encoded data removed]",
      "text/plain": [
       "<matplotlib.figure.Figure at 0x112192208>"
      ]
     },
     "metadata": {},
     "output_type": "display_data"
    }
   ],
   "source": [
    "data.hist(column='result', by='austim', bins=10)\n",
    "plt.show()"
   ]
  },
  {
   "cell_type": "code",
   "execution_count": 222,
   "metadata": {},
   "outputs": [
    {
     "data": {
      "image/png": "[encoded data removed]",
      "text/plain": [
       "<matplotlib.figure.Figure at 0x112af9438>"
      ]
     },
     "metadata": {},
     "output_type": "display_data"
    }
   ],
   "source": [
    "fig, ax = plt.subplots()\n",
    "ax.hist(data['austim'])\n",
    "plt.show()"
   ]
  },
  {
   "cell_type": "code",
   "execution_count": 223,
   "metadata": {},
   "outputs": [
    {
     "name": "stdout",
     "output_type": "stream",
     "text": [
      "1    769\n",
      "0    331\n",
      "Name: A1_Score, dtype: int64\n",
      "0    569\n",
      "1    531\n",
      "Name: A2_Score, dtype: int64\n",
      "1    607\n",
      "0    493\n",
      "Name: A3_Score, dtype: int64\n",
      "1    583\n",
      "0    517\n",
      "Name: A4_Score, dtype: int64\n",
      "1    646\n",
      "0    454\n",
      "Name: A5_Score, dtype: int64\n",
      "0    612\n",
      "1    488\n",
      "Name: A6_Score, dtype: int64\n",
      "0    575\n",
      "1    525\n",
      "Name: A7_Score, dtype: int64\n",
      "1    666\n",
      "0    434\n",
      "Name: A8_Score, dtype: int64\n",
      "0    646\n",
      "1    454\n",
      "Name: A9_Score, dtype: int64\n",
      "1    684\n",
      "0    416\n",
      "Name: A10_Score, dtype: int64\n",
      "4.000000      92\n",
      "21.000000     49\n",
      "20.000000     46\n",
      "5.000000      45\n",
      "6.000000      39\n",
      "23.000000     37\n",
      "22.000000     37\n",
      "19.000000     35\n",
      "24.000000     34\n",
      "27.000000     31\n",
      "16.000000     31\n",
      "18.000000     31\n",
      "30.000000     30\n",
      "26.000000     28\n",
      "7.000000      27\n",
      "29.000000     27\n",
      "25.000000     27\n",
      "11.000000     26\n",
      "12.000000     25\n",
      "28.000000     24\n",
      "8.000000      21\n",
      "31.000000     21\n",
      "9.000000      20\n",
      "15.000000     18\n",
      "32.000000     18\n",
      "10.000000     18\n",
      "17.000000     18\n",
      "35.000000     17\n",
      "37.000000     17\n",
      "40.000000     16\n",
      "              ..\n",
      "13.000000     16\n",
      "42.000000     15\n",
      "14.000000     14\n",
      "36.000000     13\n",
      "34.000000     12\n",
      "38.000000     12\n",
      "43.000000     11\n",
      "44.000000     10\n",
      "47.000000      8\n",
      "39.000000      7\n",
      "55.000000      6\n",
      "46.000000      6\n",
      "53.000000      6\n",
      "50.000000      5\n",
      "52.000000      5\n",
      "6.354167       4\n",
      "45.000000      4\n",
      "48.000000      4\n",
      "41.000000      3\n",
      "49.000000      3\n",
      "58.000000      2\n",
      "54.000000      2\n",
      "56.000000      2\n",
      "61.000000      2\n",
      "29.698006      2\n",
      "64.000000      1\n",
      "383.000000     1\n",
      "60.000000      1\n",
      "59.000000      1\n",
      "51.000000      1\n",
      "Name: age, Length: 61, dtype: int64\n",
      "0    625\n",
      "1    475\n",
      "Name: gender, dtype: int64\n",
      "b'White-European'       381\n",
      "b'Asian'                185\n",
      "b'?'                    144\n",
      "b\"'Middle Eastern '\"    128\n",
      "b'Black'                 65\n",
      "b\"'South Asian'\"         60\n",
      "b'Others'                56\n",
      "b'Latino'                33\n",
      "b'Hispanic'              25\n",
      "b'Pasifika'              14\n",
      "b'Turkish'                8\n",
      "b'others'                 1\n",
      "Name: ethnicity, dtype: int64\n",
      "0    935\n",
      "1    165\n",
      "Name: jundice, dtype: int64\n",
      "0    946\n",
      "1    154\n",
      "Name: austim, dtype: int64\n",
      "b\"'United States'\"            167\n",
      "b\"'United Kingdom'\"           155\n",
      "b'India'                      130\n",
      "b\"'New Zealand'\"               95\n",
      "b\"'United Arab Emirates'\"      90\n",
      "b'Jordan'                      68\n",
      "b'Australia'                   52\n",
      "b'Canada'                      25\n",
      "b'Afghanistan'                 17\n",
      "b'Egypt'                       14\n",
      "b\"'Sri Lanka'\"                 14\n",
      "b'Argentina'                   14\n",
      "b'Netherlands'                 13\n",
      "b'Brazil'                      12\n",
      "b'France'                      12\n",
      "b'Austria'                     11\n",
      "b'Bangladesh'                  10\n",
      "b'Mexico'                      10\n",
      "b'Russia'                      10\n",
      "b'Philippines'                  8\n",
      "b\"'Saudi Arabia'\"               8\n",
      "b'Ireland'                      7\n",
      "b'Malaysia'                     7\n",
      "b'Italy'                        7\n",
      "b'Pakistan'                     7\n",
      "b'Iran'                         7\n",
      "b\"'Viet Nam'\"                   6\n",
      "b'Germany'                      5\n",
      "b\"'South Africa'\"               5\n",
      "b'Armenia'                      5\n",
      "                             ... \n",
      "b'Latvia'                       1\n",
      "b'Norway'                       1\n",
      "b'Malta'                        1\n",
      "b\"'U.S. Outlying Islands'\"      1\n",
      "b'Europe'                       1\n",
      "b'Bolivia'                      1\n",
      "b'Niger'                        1\n",
      "b'Serbia'                       1\n",
      "b'Ghana'                        1\n",
      "b'Nigeria'                      1\n",
      "b'Tonga'                        1\n",
      "b'Greenland'                    1\n",
      "b'Kuwait'                       1\n",
      "b\"'Hong Kong'\"                  1\n",
      "b\"'Sierra Leone'\"               1\n",
      "b'Anguilla'                     1\n",
      "b'Bhutan'                       1\n",
      "b\"'Isle of Man'\"                1\n",
      "b'Comoros'                      1\n",
      "b'Uruguay'                      1\n",
      "b'Chile'                        1\n",
      "b'Ecuador'                      1\n",
      "b'Bulgaria'                     1\n",
      "b\"'Czech Republic'\"             1\n",
      "b'Aruba'                        1\n",
      "b'Cyprus'                       1\n",
      "b'Burundi'                      1\n",
      "b\"'South Korea'\"                1\n",
      "b'Angola'                       1\n",
      "b'Nicaragua'                    1\n",
      "Name: contry_of_res, Length: 89, dtype: int64\n",
      "0    1073\n",
      "1      27\n",
      "Name: used_app_before, dtype: int64\n",
      "4.0     174\n",
      "3.0     136\n",
      "5.0     129\n",
      "6.0     126\n",
      "8.0     121\n",
      "7.0     118\n",
      "9.0      98\n",
      "2.0      85\n",
      "10.0     56\n",
      "1.0      42\n",
      "0.0      15\n",
      "Name: result, dtype: int64\n",
      "b'Self'                          571\n",
      "b'Parent'                        300\n",
      "b'?'                             144\n",
      "b'Relative'                       53\n",
      "b\"'Health care professional'\"     23\n",
      "b'Others'                          8\n",
      "b'self'                            1\n",
      "Name: relation, dtype: int64\n",
      "0    707\n",
      "1    393\n",
      "Name: Class/ASD, dtype: int64\n"
     ]
    }
   ],
   "source": [
    "for name in list(data.columns.values):\n",
    "    print(data[name].value_counts(dropna=False))"
   ]
  },
  {
   "cell_type": "code",
   "execution_count": 224,
   "metadata": {},
   "outputs": [
    {
     "data": {
      "image/png": "[encoded data removed]",
      "text/plain": [
       "<matplotlib.figure.Figure at 0x11312a908>"
      ]
     },
     "metadata": {},
     "output_type": "display_data"
    }
   ],
   "source": [
    "data.boxplot(column='result', by=\"austim\", rot=90)\n",
    "plt.show()"
   ]
  },
  {
   "cell_type": "markdown",
   "metadata": {},
   "source": [
    "## K-Nearest Neighbors\n",
    "\n",
    "To simplify the first analysis, I drop the country of residence, the ethnicity and the relation to the person who is answering. "
   ]
  },
  {
   "cell_type": "code",
   "execution_count": 251,
   "metadata": {
    "collapsed": true
   },
   "outputs": [],
   "source": [
    "analyse=data.drop('ethnicity', axis=1)\n",
    "analyse=analyse.drop('contry_of_res', axis=1)\n",
    "analyse=analyse.drop('relation', axis=1)"
   ]
  },
  {
   "cell_type": "code",
   "execution_count": 278,
   "metadata": {},
   "outputs": [
    {
     "name": "stdout",
     "output_type": "stream",
     "text": [
      "0.969696969697\n"
     ]
    }
   ],
   "source": [
    "from sklearn.neighbors import KNeighborsClassifier\n",
    "from sklearn.model_selection import train_test_split\n",
    "\n",
    "# Create arrays for the features and the response variable\n",
    "y = list(analyse['Class/ASD'].values)\n",
    "X = analyse.drop('Class/ASD', axis=1).values\n",
    "\n",
    "# Create a k-NN classifier with 6 neighbors\n",
    "knn = KNeighborsClassifier(n_neighbors=3)\n",
    "X_train, X_test, y_train, y_test = train_test_split(X, y, test_size = 0.3, random_state=42, stratify=y)\n",
    "# Fit the classifier to the data\n",
    "knn.fit(X_train, y_train)\n",
    "y_pred = knn.predict(X_test)\n",
    "print(knn.score(X_test, y_test))"
   ]
  },
  {
   "cell_type": "code",
   "execution_count": null,
   "metadata": {},
   "outputs": [],
   "source": []
  },
  {
   "cell_type": "markdown",
   "metadata": {},
   "source": [
    "## Linear Regression"
   ]
  },
  {
   "cell_type": "code",
   "execution_count": 227,
   "metadata": {},
   "outputs": [
    {
     "name": "stdout",
     "output_type": "stream",
     "text": [
      "0.67846568269\n"
     ]
    }
   ],
   "source": [
    "from sklearn.linear_model import LinearRegression\n",
    "reg = LinearRegression()\n",
    "reg.fit(X_train, y_train)\n",
    "y_pred=reg.predict(X_test)\n",
    "print(reg.score(X_test, y_test))"
   ]
  },
  {
   "cell_type": "markdown",
   "metadata": {},
   "source": [
    "## PCA"
   ]
  },
  {
   "cell_type": "code",
   "execution_count": 283,
   "metadata": {},
   "outputs": [
    {
     "data": {
      "image/png": "[encoded data removed]",
      "text/plain": [
       "<matplotlib.figure.Figure at 0x112af9ac8>"
      ]
     },
     "metadata": {},
     "output_type": "display_data"
    },
    {
     "name": "stdout",
     "output_type": "stream",
     "text": [
      "-1.34204144554e-16\n"
     ]
    }
   ],
   "source": [
    "from sklearn.decomposition import PCA\n",
    "from scipy.stats import pearsonr\n",
    "model = PCA()\n",
    "pca_features = model.fit_transform(analyse)\n",
    "xs = pca_features[:,0]\n",
    "ys = pca_features[:,1]\n",
    "plt.scatter(xs, ys, c=y)\n",
    "plt.axis('equal')\n",
    "plt.axis((-24,50,-10,10))\n",
    "plt.show()\n",
    "correlation, pvalue = pearsonr(xs, ys)\n",
    "print(correlation)"
   ]
  },
  {
   "cell_type": "code",
   "execution_count": 263,
   "metadata": {},
   "outputs": [
    {
     "data": {
      "image/png": "[encoded data removed]",
      "text/plain": [
       "<matplotlib.figure.Figure at 0x112c60e80>"
      ]
     },
     "metadata": {},
     "output_type": "display_data"
    }
   ],
   "source": [
    "from sklearn.decomposition import PCA\n",
    "from sklearn.preprocessing import StandardScaler\n",
    "from sklearn.pipeline import make_pipeline\n",
    "import matplotlib.pyplot as plt\n",
    "\n",
    "# Create scaler: scaler\n",
    "scaler = StandardScaler()\n",
    "\n",
    "# Create a PCA instance: pca\n",
    "pca = PCA()\n",
    "\n",
    "# Create pipeline: pipeline\n",
    "pipeline = make_pipeline(scaler, pca)\n",
    "\n",
    "# Fit the pipeline to 'samples'\n",
    "pipeline.fit(analyse)\n",
    "\n",
    "# Plot the explained variances\n",
    "features = range(pca.n_components_)\n",
    "plt.bar(features, pca.explained_variance_)\n",
    "plt.xlabel('PCA feature')\n",
    "plt.ylabel('variance')\n",
    "plt.xticks(features)\n",
    "plt.show()\n"
   ]
  },
  {
   "cell_type": "code",
   "execution_count": 291,
   "metadata": {},
   "outputs": [
    {
     "name": "stdout",
     "output_type": "stream",
     "text": [
      "[  2.72440164e-01   8.15825201e-02   7.17966796e-02   6.14500738e-02\n",
      "   5.81594429e-02   5.74332750e-02   5.39353984e-02   5.19196767e-02\n",
      "   4.82691418e-02   4.42758743e-02   4.32775232e-02   4.03442527e-02\n",
      "   3.82539032e-02   3.43911108e-02   2.81309196e-02   1.43400443e-02\n",
      "   1.62254519e-33]\n",
      "[ 0.27244016  0.35402268  0.42581936  0.48726944  0.54542888  0.60286216\n",
      "  0.65679755  0.70871723  0.75698637  0.80126225  0.84453977  0.88488402\n",
      "  0.92313793  0.95752904  0.98565996  1.          1.        ]\n"
     ]
    }
   ],
   "source": [
    "from sklearn.preprocessing import StandardScaler\n",
    "from sklearn.decomposition import PCA\n",
    "\n",
    "# Scale the data\n",
    "scaler = StandardScaler()\n",
    "scaled = scaler.fit_transform(analyse)\n",
    "\n",
    "# Apply PCA\n",
    "pca = PCA()\n",
    "pca.fit(scaled)\n",
    "\n",
    "print(pca.explained_variance_ratio_)\n",
    "print(pca.explained_variance_ratio_.cumsum())"
   ]
  },
  {
   "cell_type": "code",
   "execution_count": null,
   "metadata": {
    "collapsed": true
   },
   "outputs": [],
   "source": []
  }
 ],
 "metadata": {
  "kernelspec": {
   "display_name": "Python 3",
   "language": "python",
   "name": "python3"
  },
  "language_info": {
   "codemirror_mode": {
    "name": "ipython",
    "version": 3
   },
   "file_extension": ".py",
   "mimetype": "text/x-python",
   "name": "python",
   "nbconvert_exporter": "python",
   "pygments_lexer": "ipython3",
   "version": "3.6.1"
  }
 },
 "nbformat": 4,
 "nbformat_minor": 2
}
